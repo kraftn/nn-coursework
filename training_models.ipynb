{
 "cells": [
  {
   "cell_type": "markdown",
   "metadata": {},
   "source": [
    "# Исследование датасета"
   ]
  },
  {
   "cell_type": "code",
   "execution_count": 3,
   "metadata": {},
   "outputs": [],
   "source": [
    "import pandas as pd\n",
    "import numpy as np"
   ]
  },
  {
   "cell_type": "code",
   "execution_count": 4,
   "metadata": {},
   "outputs": [
    {
     "name": "stdout",
     "output_type": "stream",
     "text": [
      "<class 'pandas.core.frame.DataFrame'>\n",
      "RangeIndex: 56244 entries, 0 to 56243\n",
      "Data columns (total 12 columns):\n",
      " #   Column               Non-Null Count  Dtype  \n",
      "---  ------               --------------  -----  \n",
      " 0   make                 56244 non-null  object \n",
      " 1   model                56244 non-null  object \n",
      " 2   priceUSD             56244 non-null  int64  \n",
      " 3   year                 56244 non-null  int64  \n",
      " 4   condition            56244 non-null  object \n",
      " 5   mileage(kilometers)  56244 non-null  float64\n",
      " 6   fuel_type            56244 non-null  object \n",
      " 7   volume(cm3)          56197 non-null  float64\n",
      " 8   color                56244 non-null  object \n",
      " 9   transmission         56244 non-null  object \n",
      " 10  drive_unit           54339 non-null  object \n",
      " 11  segment              50953 non-null  object \n",
      "dtypes: float64(2), int64(2), object(8)\n",
      "memory usage: 5.1+ MB\n"
     ]
    }
   ],
   "source": [
    "data = pd.read_csv('cars.csv')\n",
    "data.info()"
   ]
  },
  {
   "cell_type": "code",
   "execution_count": 5,
   "metadata": {},
   "outputs": [
    {
     "data": {
      "text/html": [
       "<div>\n",
       "<style scoped>\n",
       "    .dataframe tbody tr th:only-of-type {\n",
       "        vertical-align: middle;\n",
       "    }\n",
       "\n",
       "    .dataframe tbody tr th {\n",
       "        vertical-align: top;\n",
       "    }\n",
       "\n",
       "    .dataframe thead th {\n",
       "        text-align: right;\n",
       "    }\n",
       "</style>\n",
       "<table border=\"1\" class=\"dataframe\">\n",
       "  <thead>\n",
       "    <tr style=\"text-align: right;\">\n",
       "      <th></th>\n",
       "      <th>make</th>\n",
       "      <th>model</th>\n",
       "      <th>priceUSD</th>\n",
       "      <th>year</th>\n",
       "      <th>condition</th>\n",
       "      <th>mileage(kilometers)</th>\n",
       "      <th>fuel_type</th>\n",
       "      <th>volume(cm3)</th>\n",
       "      <th>color</th>\n",
       "      <th>transmission</th>\n",
       "      <th>drive_unit</th>\n",
       "      <th>segment</th>\n",
       "    </tr>\n",
       "  </thead>\n",
       "  <tbody>\n",
       "    <tr>\n",
       "      <th>46954</th>\n",
       "      <td>lifan</td>\n",
       "      <td>smily</td>\n",
       "      <td>3850</td>\n",
       "      <td>2012</td>\n",
       "      <td>with mileage</td>\n",
       "      <td>16000.0</td>\n",
       "      <td>petrol</td>\n",
       "      <td>1300.0</td>\n",
       "      <td>red</td>\n",
       "      <td>mechanics</td>\n",
       "      <td>front-wheel drive</td>\n",
       "      <td>NaN</td>\n",
       "    </tr>\n",
       "  </tbody>\n",
       "</table>\n",
       "</div>"
      ],
      "text/plain": [
       "        make  model  priceUSD  year     condition  mileage(kilometers)  \\\n",
       "46954  lifan  smily      3850  2012  with mileage              16000.0   \n",
       "\n",
       "      fuel_type  volume(cm3) color transmission         drive_unit segment  \n",
       "46954    petrol       1300.0   red    mechanics  front-wheel drive     NaN  "
      ]
     },
     "execution_count": 5,
     "metadata": {},
     "output_type": "execute_result"
    }
   ],
   "source": [
    "example = data.sample()\n",
    "example"
   ]
  },
  {
   "cell_type": "code",
   "execution_count": 35,
   "metadata": {},
   "outputs": [
    {
     "data": {
      "text/html": [
       "<div>\n",
       "<style scoped>\n",
       "    .dataframe tbody tr th:only-of-type {\n",
       "        vertical-align: middle;\n",
       "    }\n",
       "\n",
       "    .dataframe tbody tr th {\n",
       "        vertical-align: top;\n",
       "    }\n",
       "\n",
       "    .dataframe thead th {\n",
       "        text-align: right;\n",
       "    }\n",
       "</style>\n",
       "<table border=\"1\" class=\"dataframe\">\n",
       "  <thead>\n",
       "    <tr style=\"text-align: right;\">\n",
       "      <th></th>\n",
       "      <th>make</th>\n",
       "      <th>model</th>\n",
       "      <th>priceUSD</th>\n",
       "      <th>year</th>\n",
       "      <th>condition</th>\n",
       "      <th>mileage(kilometers)</th>\n",
       "      <th>fuel_type</th>\n",
       "      <th>volume(cm3)</th>\n",
       "      <th>color</th>\n",
       "      <th>transmission</th>\n",
       "      <th>drive_unit</th>\n",
       "      <th>segment</th>\n",
       "    </tr>\n",
       "  </thead>\n",
       "  <tbody>\n",
       "    <tr>\n",
       "      <th>54</th>\n",
       "      <td>mazda</td>\n",
       "      <td>3</td>\n",
       "      <td>1000</td>\n",
       "      <td>2005</td>\n",
       "      <td>with damage</td>\n",
       "      <td>123456.000</td>\n",
       "      <td>diesel</td>\n",
       "      <td>1500.0</td>\n",
       "      <td>blue</td>\n",
       "      <td>mechanics</td>\n",
       "      <td>front-wheel drive</td>\n",
       "      <td>C</td>\n",
       "    </tr>\n",
       "    <tr>\n",
       "      <th>90</th>\n",
       "      <td>mazda</td>\n",
       "      <td>3</td>\n",
       "      <td>7700</td>\n",
       "      <td>2012</td>\n",
       "      <td>with damage</td>\n",
       "      <td>156000.000</td>\n",
       "      <td>petrol</td>\n",
       "      <td>1600.0</td>\n",
       "      <td>gray</td>\n",
       "      <td>mechanics</td>\n",
       "      <td>front-wheel drive</td>\n",
       "      <td>C</td>\n",
       "    </tr>\n",
       "    <tr>\n",
       "      <th>340</th>\n",
       "      <td>mazda</td>\n",
       "      <td>6</td>\n",
       "      <td>2500</td>\n",
       "      <td>2003</td>\n",
       "      <td>with damage</td>\n",
       "      <td>36300.000</td>\n",
       "      <td>diesel</td>\n",
       "      <td>2000.0</td>\n",
       "      <td>other</td>\n",
       "      <td>mechanics</td>\n",
       "      <td>front-wheel drive</td>\n",
       "      <td>D</td>\n",
       "    </tr>\n",
       "    <tr>\n",
       "      <th>543</th>\n",
       "      <td>mazda</td>\n",
       "      <td>6</td>\n",
       "      <td>9850</td>\n",
       "      <td>2014</td>\n",
       "      <td>with damage</td>\n",
       "      <td>180000.000</td>\n",
       "      <td>petrol</td>\n",
       "      <td>2500.0</td>\n",
       "      <td>gray</td>\n",
       "      <td>auto</td>\n",
       "      <td>front-wheel drive</td>\n",
       "      <td>D</td>\n",
       "    </tr>\n",
       "    <tr>\n",
       "      <th>628</th>\n",
       "      <td>mazda</td>\n",
       "      <td>6</td>\n",
       "      <td>4200</td>\n",
       "      <td>2007</td>\n",
       "      <td>with damage</td>\n",
       "      <td>241.401</td>\n",
       "      <td>petrol</td>\n",
       "      <td>2300.0</td>\n",
       "      <td>other</td>\n",
       "      <td>auto</td>\n",
       "      <td>front-wheel drive</td>\n",
       "      <td>D</td>\n",
       "    </tr>\n",
       "    <tr>\n",
       "      <th>...</th>\n",
       "      <td>...</td>\n",
       "      <td>...</td>\n",
       "      <td>...</td>\n",
       "      <td>...</td>\n",
       "      <td>...</td>\n",
       "      <td>...</td>\n",
       "      <td>...</td>\n",
       "      <td>...</td>\n",
       "      <td>...</td>\n",
       "      <td>...</td>\n",
       "      <td>...</td>\n",
       "      <td>...</td>\n",
       "    </tr>\n",
       "    <tr>\n",
       "      <th>55124</th>\n",
       "      <td>citroen</td>\n",
       "      <td>xsara</td>\n",
       "      <td>1300</td>\n",
       "      <td>1998</td>\n",
       "      <td>with damage</td>\n",
       "      <td>250000.000</td>\n",
       "      <td>diesel</td>\n",
       "      <td>1900.0</td>\n",
       "      <td>blue</td>\n",
       "      <td>mechanics</td>\n",
       "      <td>front-wheel drive</td>\n",
       "      <td>C</td>\n",
       "    </tr>\n",
       "    <tr>\n",
       "      <th>55285</th>\n",
       "      <td>citroen</td>\n",
       "      <td>xsara-picasso</td>\n",
       "      <td>1500</td>\n",
       "      <td>2000</td>\n",
       "      <td>with damage</td>\n",
       "      <td>300000.000</td>\n",
       "      <td>petrol</td>\n",
       "      <td>1800.0</td>\n",
       "      <td>gray</td>\n",
       "      <td>mechanics</td>\n",
       "      <td>front-wheel drive</td>\n",
       "      <td>C</td>\n",
       "    </tr>\n",
       "    <tr>\n",
       "      <th>55422</th>\n",
       "      <td>toyota</td>\n",
       "      <td>yaris</td>\n",
       "      <td>1100</td>\n",
       "      <td>2000</td>\n",
       "      <td>with damage</td>\n",
       "      <td>178000.000</td>\n",
       "      <td>petrol</td>\n",
       "      <td>1000.0</td>\n",
       "      <td>green</td>\n",
       "      <td>mechanics</td>\n",
       "      <td>front-wheel drive</td>\n",
       "      <td>B</td>\n",
       "    </tr>\n",
       "    <tr>\n",
       "      <th>55655</th>\n",
       "      <td>opel</td>\n",
       "      <td>zafira</td>\n",
       "      <td>2000</td>\n",
       "      <td>2001</td>\n",
       "      <td>with damage</td>\n",
       "      <td>300000.000</td>\n",
       "      <td>diesel</td>\n",
       "      <td>2000.0</td>\n",
       "      <td>blue</td>\n",
       "      <td>mechanics</td>\n",
       "      <td>front-wheel drive</td>\n",
       "      <td>M</td>\n",
       "    </tr>\n",
       "    <tr>\n",
       "      <th>56116</th>\n",
       "      <td>opel</td>\n",
       "      <td>zafira</td>\n",
       "      <td>5300</td>\n",
       "      <td>2008</td>\n",
       "      <td>with damage</td>\n",
       "      <td>350000.000</td>\n",
       "      <td>petrol</td>\n",
       "      <td>1800.0</td>\n",
       "      <td>blue</td>\n",
       "      <td>auto</td>\n",
       "      <td>NaN</td>\n",
       "      <td>M</td>\n",
       "    </tr>\n",
       "  </tbody>\n",
       "</table>\n",
       "<p>512 rows × 12 columns</p>\n",
       "</div>"
      ],
      "text/plain": [
       "          make          model  priceUSD  year    condition  \\\n",
       "54       mazda              3      1000  2005  with damage   \n",
       "90       mazda              3      7700  2012  with damage   \n",
       "340      mazda              6      2500  2003  with damage   \n",
       "543      mazda              6      9850  2014  with damage   \n",
       "628      mazda              6      4200  2007  with damage   \n",
       "...        ...            ...       ...   ...          ...   \n",
       "55124  citroen          xsara      1300  1998  with damage   \n",
       "55285  citroen  xsara-picasso      1500  2000  with damage   \n",
       "55422   toyota          yaris      1100  2000  with damage   \n",
       "55655     opel         zafira      2000  2001  with damage   \n",
       "56116     opel         zafira      5300  2008  with damage   \n",
       "\n",
       "       mileage(kilometers) fuel_type  volume(cm3)  color transmission  \\\n",
       "54              123456.000    diesel       1500.0   blue    mechanics   \n",
       "90              156000.000    petrol       1600.0   gray    mechanics   \n",
       "340              36300.000    diesel       2000.0  other    mechanics   \n",
       "543             180000.000    petrol       2500.0   gray         auto   \n",
       "628                241.401    petrol       2300.0  other         auto   \n",
       "...                    ...       ...          ...    ...          ...   \n",
       "55124           250000.000    diesel       1900.0   blue    mechanics   \n",
       "55285           300000.000    petrol       1800.0   gray    mechanics   \n",
       "55422           178000.000    petrol       1000.0  green    mechanics   \n",
       "55655           300000.000    diesel       2000.0   blue    mechanics   \n",
       "56116           350000.000    petrol       1800.0   blue         auto   \n",
       "\n",
       "              drive_unit segment  \n",
       "54     front-wheel drive       C  \n",
       "90     front-wheel drive       C  \n",
       "340    front-wheel drive       D  \n",
       "543    front-wheel drive       D  \n",
       "628    front-wheel drive       D  \n",
       "...                  ...     ...  \n",
       "55124  front-wheel drive       C  \n",
       "55285  front-wheel drive       C  \n",
       "55422  front-wheel drive       B  \n",
       "55655  front-wheel drive       M  \n",
       "56116                NaN       M  \n",
       "\n",
       "[512 rows x 12 columns]"
      ]
     },
     "execution_count": 35,
     "metadata": {},
     "output_type": "execute_result"
    }
   ],
   "source": [
    "data[data.condition=='with damage']"
   ]
  },
  {
   "cell_type": "code",
   "execution_count": 4,
   "metadata": {},
   "outputs": [
    {
     "data": {
      "text/plain": [
       "array(['mazda', 'mg', 'renault', 'gaz', 'aro', 'rover', 'uaz',\n",
       "       'alfa-romeo', 'audi', 'oldsmobile', 'saab', 'peugeot', 'chrysler',\n",
       "       'wartburg', 'moskvich', 'volvo', 'fiat', 'roewe', 'porsche', 'zaz',\n",
       "       'luaz', 'dacia', 'lada-vaz', 'izh', 'raf', 'bogdan', 'bmw',\n",
       "       'nissan', 'mercedes-benz', 'mitsubishi', 'toyota', 'chery', 'gmc',\n",
       "       'hyundai', 'honda', 'ssangyong', 'suzuki', 'opel', 'seat',\n",
       "       'volkswagen', 'daihatsu', 'chevrolet', 'geely', 'saturn', 'kia',\n",
       "       'lincoln', 'eksklyuziv', 'citroen', 'dong-feng', 'pontiac', 'ford',\n",
       "       'subaru', 'bentley', 'faw', 'cadillac', 'lifan', 'plymouth',\n",
       "       'hafei', 'shanghai-maple', 'mini', 'jeep', 'skoda', 'mercury',\n",
       "       'changan', 'lexus', 'isuzu', 'aston-martin', 'lancia',\n",
       "       'great-wall', 'land-rover', 'jaguar', 'buick', 'daewoo', 'vortex',\n",
       "       'infiniti', 'byd', 'smart', 'maserati', 'haval', 'acura', 'scion',\n",
       "       'tata', 'datsun', 'tesla', 'mclaren', 'ravon', 'trabant', 'proton',\n",
       "       'fso', 'jac', 'asia', 'iran-khodro', 'zotye', 'tagaz', 'saipa',\n",
       "       'brilliance'], dtype=object)"
      ]
     },
     "execution_count": 4,
     "metadata": {},
     "output_type": "execute_result"
    }
   ],
   "source": [
    "data.make.unique()"
   ]
  },
  {
   "cell_type": "code",
   "execution_count": 5,
   "metadata": {
    "scrolled": true
   },
   "outputs": [
    {
     "data": {
      "text/html": [
       "<div>\n",
       "<style scoped>\n",
       "    .dataframe tbody tr th:only-of-type {\n",
       "        vertical-align: middle;\n",
       "    }\n",
       "\n",
       "    .dataframe tbody tr th {\n",
       "        vertical-align: top;\n",
       "    }\n",
       "\n",
       "    .dataframe thead th {\n",
       "        text-align: right;\n",
       "    }\n",
       "</style>\n",
       "<table border=\"1\" class=\"dataframe\">\n",
       "  <thead>\n",
       "    <tr style=\"text-align: right;\">\n",
       "      <th></th>\n",
       "      <th>priceUSD</th>\n",
       "      <th>year</th>\n",
       "      <th>mileage(kilometers)</th>\n",
       "      <th>volume(cm3)</th>\n",
       "    </tr>\n",
       "  </thead>\n",
       "  <tbody>\n",
       "    <tr>\n",
       "      <th>priceUSD</th>\n",
       "      <td>1.000000</td>\n",
       "      <td>0.605131</td>\n",
       "      <td>-0.170933</td>\n",
       "      <td>0.267553</td>\n",
       "    </tr>\n",
       "    <tr>\n",
       "      <th>year</th>\n",
       "      <td>0.605131</td>\n",
       "      <td>1.000000</td>\n",
       "      <td>-0.233049</td>\n",
       "      <td>0.027370</td>\n",
       "    </tr>\n",
       "    <tr>\n",
       "      <th>mileage(kilometers)</th>\n",
       "      <td>-0.170933</td>\n",
       "      <td>-0.233049</td>\n",
       "      <td>1.000000</td>\n",
       "      <td>0.013452</td>\n",
       "    </tr>\n",
       "    <tr>\n",
       "      <th>volume(cm3)</th>\n",
       "      <td>0.267553</td>\n",
       "      <td>0.027370</td>\n",
       "      <td>0.013452</td>\n",
       "      <td>1.000000</td>\n",
       "    </tr>\n",
       "  </tbody>\n",
       "</table>\n",
       "</div>"
      ],
      "text/plain": [
       "                     priceUSD      year  mileage(kilometers)  volume(cm3)\n",
       "priceUSD             1.000000  0.605131            -0.170933     0.267553\n",
       "year                 0.605131  1.000000            -0.233049     0.027370\n",
       "mileage(kilometers) -0.170933 -0.233049             1.000000     0.013452\n",
       "volume(cm3)          0.267553  0.027370             0.013452     1.000000"
      ]
     },
     "execution_count": 5,
     "metadata": {},
     "output_type": "execute_result"
    }
   ],
   "source": [
    "data.corr()"
   ]
  },
  {
   "cell_type": "code",
   "execution_count": 6,
   "metadata": {},
   "outputs": [
    {
     "data": {
      "text/plain": [
       "count                   207\n",
       "unique                    1\n",
       "top       front-wheel drive\n",
       "freq                    207\n",
       "Name: drive_unit, dtype: object"
      ]
     },
     "execution_count": 6,
     "metadata": {},
     "output_type": "execute_result"
    }
   ],
   "source": [
    "data[(data.make=='mazda') & (data.model=='3')].drive_unit.describe()"
   ]
  },
  {
   "cell_type": "code",
   "execution_count": 7,
   "metadata": {},
   "outputs": [
    {
     "data": {
      "text/plain": [
       "1600.0     112\n",
       "2000.0      68\n",
       "2300.0      15\n",
       "1500.0      13\n",
       "1598.0       3\n",
       "2500.0       2\n",
       "1999.0       1\n",
       "20000.0      1\n",
       "1998.0       1\n",
       "1560.0       1\n",
       "1400.0       1\n",
       "Name: volume(cm3), dtype: int64"
      ]
     },
     "execution_count": 7,
     "metadata": {},
     "output_type": "execute_result"
    }
   ],
   "source": [
    "data[(data.make=='mazda') & (data.model=='3')]['volume(cm3)'].value_counts()"
   ]
  },
  {
   "cell_type": "code",
   "execution_count": 8,
   "metadata": {},
   "outputs": [
    {
     "data": {
      "text/html": [
       "<div>\n",
       "<style scoped>\n",
       "    .dataframe tbody tr th:only-of-type {\n",
       "        vertical-align: middle;\n",
       "    }\n",
       "\n",
       "    .dataframe tbody tr th {\n",
       "        vertical-align: top;\n",
       "    }\n",
       "\n",
       "    .dataframe thead th {\n",
       "        text-align: right;\n",
       "    }\n",
       "</style>\n",
       "<table border=\"1\" class=\"dataframe\">\n",
       "  <thead>\n",
       "    <tr style=\"text-align: right;\">\n",
       "      <th></th>\n",
       "      <th>make</th>\n",
       "      <th>model</th>\n",
       "      <th>priceUSD</th>\n",
       "      <th>year</th>\n",
       "      <th>condition</th>\n",
       "      <th>mileage(kilometers)</th>\n",
       "      <th>fuel_type</th>\n",
       "      <th>volume(cm3)</th>\n",
       "      <th>color</th>\n",
       "      <th>transmission</th>\n",
       "      <th>drive_unit</th>\n",
       "      <th>segment</th>\n",
       "    </tr>\n",
       "  </thead>\n",
       "  <tbody>\n",
       "    <tr>\n",
       "      <th>81</th>\n",
       "      <td>mazda</td>\n",
       "      <td>3</td>\n",
       "      <td>5300</td>\n",
       "      <td>2006</td>\n",
       "      <td>with mileage</td>\n",
       "      <td>168000.0</td>\n",
       "      <td>petrol</td>\n",
       "      <td>20000.0</td>\n",
       "      <td>silver</td>\n",
       "      <td>mechanics</td>\n",
       "      <td>front-wheel drive</td>\n",
       "      <td>C</td>\n",
       "    </tr>\n",
       "    <tr>\n",
       "      <th>354</th>\n",
       "      <td>mazda</td>\n",
       "      <td>6</td>\n",
       "      <td>7500</td>\n",
       "      <td>2003</td>\n",
       "      <td>with mileage</td>\n",
       "      <td>240000.0</td>\n",
       "      <td>diesel</td>\n",
       "      <td>20000.0</td>\n",
       "      <td>silver</td>\n",
       "      <td>mechanics</td>\n",
       "      <td>front-wheel drive</td>\n",
       "      <td>D</td>\n",
       "    </tr>\n",
       "    <tr>\n",
       "      <th>929</th>\n",
       "      <td>renault</td>\n",
       "      <td>21</td>\n",
       "      <td>200</td>\n",
       "      <td>1990</td>\n",
       "      <td>for parts</td>\n",
       "      <td>300.0</td>\n",
       "      <td>petrol</td>\n",
       "      <td>16000.0</td>\n",
       "      <td>other</td>\n",
       "      <td>mechanics</td>\n",
       "      <td>front-wheel drive</td>\n",
       "      <td>D</td>\n",
       "    </tr>\n",
       "    <tr>\n",
       "      <th>1537</th>\n",
       "      <td>audi</td>\n",
       "      <td>80</td>\n",
       "      <td>2900</td>\n",
       "      <td>1993</td>\n",
       "      <td>with mileage</td>\n",
       "      <td>392432.0</td>\n",
       "      <td>petrol</td>\n",
       "      <td>20000.0</td>\n",
       "      <td>burgundy</td>\n",
       "      <td>mechanics</td>\n",
       "      <td>front-wheel drive</td>\n",
       "      <td>D</td>\n",
       "    </tr>\n",
       "    <tr>\n",
       "      <th>1768</th>\n",
       "      <td>audi</td>\n",
       "      <td>100</td>\n",
       "      <td>2150</td>\n",
       "      <td>1992</td>\n",
       "      <td>with mileage</td>\n",
       "      <td>300000.0</td>\n",
       "      <td>petrol</td>\n",
       "      <td>20000.0</td>\n",
       "      <td>silver</td>\n",
       "      <td>mechanics</td>\n",
       "      <td>front-wheel drive</td>\n",
       "      <td>E</td>\n",
       "    </tr>\n",
       "    <tr>\n",
       "      <th>...</th>\n",
       "      <td>...</td>\n",
       "      <td>...</td>\n",
       "      <td>...</td>\n",
       "      <td>...</td>\n",
       "      <td>...</td>\n",
       "      <td>...</td>\n",
       "      <td>...</td>\n",
       "      <td>...</td>\n",
       "      <td>...</td>\n",
       "      <td>...</td>\n",
       "      <td>...</td>\n",
       "      <td>...</td>\n",
       "    </tr>\n",
       "    <tr>\n",
       "      <th>52638</th>\n",
       "      <td>eksklyuziv</td>\n",
       "      <td>voennaya-tehnika</td>\n",
       "      <td>15000</td>\n",
       "      <td>1980</td>\n",
       "      <td>with mileage</td>\n",
       "      <td>3000.0</td>\n",
       "      <td>petrol</td>\n",
       "      <td>8000.0</td>\n",
       "      <td>green</td>\n",
       "      <td>mechanics</td>\n",
       "      <td>part-time four-wheel drive</td>\n",
       "      <td>NaN</td>\n",
       "    </tr>\n",
       "    <tr>\n",
       "      <th>54036</th>\n",
       "      <td>citroen</td>\n",
       "      <td>xantia</td>\n",
       "      <td>1900</td>\n",
       "      <td>1999</td>\n",
       "      <td>with mileage</td>\n",
       "      <td>0.0</td>\n",
       "      <td>petrol</td>\n",
       "      <td>18000.0</td>\n",
       "      <td>blue</td>\n",
       "      <td>mechanics</td>\n",
       "      <td>NaN</td>\n",
       "      <td>D</td>\n",
       "    </tr>\n",
       "    <tr>\n",
       "      <th>54869</th>\n",
       "      <td>mazda</td>\n",
       "      <td>xedos-6</td>\n",
       "      <td>2000</td>\n",
       "      <td>1997</td>\n",
       "      <td>with mileage</td>\n",
       "      <td>246000.0</td>\n",
       "      <td>petrol</td>\n",
       "      <td>16000.0</td>\n",
       "      <td>other</td>\n",
       "      <td>mechanics</td>\n",
       "      <td>front-wheel drive</td>\n",
       "      <td>NaN</td>\n",
       "    </tr>\n",
       "    <tr>\n",
       "      <th>55205</th>\n",
       "      <td>citroen</td>\n",
       "      <td>xsara</td>\n",
       "      <td>3000</td>\n",
       "      <td>2001</td>\n",
       "      <td>with mileage</td>\n",
       "      <td>386000.0</td>\n",
       "      <td>diesel</td>\n",
       "      <td>20000.0</td>\n",
       "      <td>red</td>\n",
       "      <td>mechanics</td>\n",
       "      <td>front-wheel drive</td>\n",
       "      <td>C</td>\n",
       "    </tr>\n",
       "    <tr>\n",
       "      <th>56208</th>\n",
       "      <td>opel</td>\n",
       "      <td>zafira</td>\n",
       "      <td>4900</td>\n",
       "      <td>2000</td>\n",
       "      <td>with mileage</td>\n",
       "      <td>289538.0</td>\n",
       "      <td>diesel</td>\n",
       "      <td>20000.0</td>\n",
       "      <td>green</td>\n",
       "      <td>mechanics</td>\n",
       "      <td>NaN</td>\n",
       "      <td>M</td>\n",
       "    </tr>\n",
       "  </tbody>\n",
       "</table>\n",
       "<p>428 rows × 12 columns</p>\n",
       "</div>"
      ],
      "text/plain": [
       "             make             model  priceUSD  year     condition  \\\n",
       "81          mazda                 3      5300  2006  with mileage   \n",
       "354         mazda                 6      7500  2003  with mileage   \n",
       "929       renault                21       200  1990     for parts   \n",
       "1537         audi                80      2900  1993  with mileage   \n",
       "1768         audi               100      2150  1992  with mileage   \n",
       "...           ...               ...       ...   ...           ...   \n",
       "52638  eksklyuziv  voennaya-tehnika     15000  1980  with mileage   \n",
       "54036     citroen            xantia      1900  1999  with mileage   \n",
       "54869       mazda           xedos-6      2000  1997  with mileage   \n",
       "55205     citroen             xsara      3000  2001  with mileage   \n",
       "56208        opel            zafira      4900  2000  with mileage   \n",
       "\n",
       "       mileage(kilometers) fuel_type  volume(cm3)     color transmission  \\\n",
       "81                168000.0    petrol      20000.0    silver    mechanics   \n",
       "354               240000.0    diesel      20000.0    silver    mechanics   \n",
       "929                  300.0    petrol      16000.0     other    mechanics   \n",
       "1537              392432.0    petrol      20000.0  burgundy    mechanics   \n",
       "1768              300000.0    petrol      20000.0    silver    mechanics   \n",
       "...                    ...       ...          ...       ...          ...   \n",
       "52638               3000.0    petrol       8000.0     green    mechanics   \n",
       "54036                  0.0    petrol      18000.0      blue    mechanics   \n",
       "54869             246000.0    petrol      16000.0     other    mechanics   \n",
       "55205             386000.0    diesel      20000.0       red    mechanics   \n",
       "56208             289538.0    diesel      20000.0     green    mechanics   \n",
       "\n",
       "                       drive_unit segment  \n",
       "81              front-wheel drive       C  \n",
       "354             front-wheel drive       D  \n",
       "929             front-wheel drive       D  \n",
       "1537            front-wheel drive       D  \n",
       "1768            front-wheel drive       E  \n",
       "...                           ...     ...  \n",
       "52638  part-time four-wheel drive     NaN  \n",
       "54036                         NaN       D  \n",
       "54869           front-wheel drive     NaN  \n",
       "55205           front-wheel drive       C  \n",
       "56208                         NaN       M  \n",
       "\n",
       "[428 rows x 12 columns]"
      ]
     },
     "execution_count": 8,
     "metadata": {},
     "output_type": "execute_result"
    }
   ],
   "source": [
    "data[data['volume(cm3)']>5000]"
   ]
  },
  {
   "cell_type": "markdown",
   "metadata": {},
   "source": [
    "# Подготовка данных"
   ]
  },
  {
   "cell_type": "code",
   "execution_count": 9,
   "metadata": {},
   "outputs": [],
   "source": [
    "raw_data = data.copy()"
   ]
  },
  {
   "cell_type": "markdown",
   "metadata": {},
   "source": [
    "## Найдём и удалим выбросы"
   ]
  },
  {
   "cell_type": "code",
   "execution_count": 10,
   "metadata": {},
   "outputs": [
    {
     "data": {
      "text/html": [
       "<div>\n",
       "<style scoped>\n",
       "    .dataframe tbody tr th:only-of-type {\n",
       "        vertical-align: middle;\n",
       "    }\n",
       "\n",
       "    .dataframe tbody tr th {\n",
       "        vertical-align: top;\n",
       "    }\n",
       "\n",
       "    .dataframe thead th {\n",
       "        text-align: right;\n",
       "    }\n",
       "</style>\n",
       "<table border=\"1\" class=\"dataframe\">\n",
       "  <thead>\n",
       "    <tr style=\"text-align: right;\">\n",
       "      <th></th>\n",
       "      <th>priceUSD</th>\n",
       "      <th>year</th>\n",
       "      <th>mileage(kilometers)</th>\n",
       "      <th>volume(cm3)</th>\n",
       "    </tr>\n",
       "  </thead>\n",
       "  <tbody>\n",
       "    <tr>\n",
       "      <th>count</th>\n",
       "      <td>56244.000000</td>\n",
       "      <td>56244.000000</td>\n",
       "      <td>5.624400e+04</td>\n",
       "      <td>56197.000000</td>\n",
       "    </tr>\n",
       "    <tr>\n",
       "      <th>mean</th>\n",
       "      <td>7415.456440</td>\n",
       "      <td>2003.454840</td>\n",
       "      <td>2.443956e+05</td>\n",
       "      <td>2104.860615</td>\n",
       "    </tr>\n",
       "    <tr>\n",
       "      <th>std</th>\n",
       "      <td>8316.959261</td>\n",
       "      <td>8.144247</td>\n",
       "      <td>3.210307e+05</td>\n",
       "      <td>959.201633</td>\n",
       "    </tr>\n",
       "    <tr>\n",
       "      <th>min</th>\n",
       "      <td>48.000000</td>\n",
       "      <td>1910.000000</td>\n",
       "      <td>0.000000e+00</td>\n",
       "      <td>500.000000</td>\n",
       "    </tr>\n",
       "    <tr>\n",
       "      <th>25%</th>\n",
       "      <td>2350.000000</td>\n",
       "      <td>1998.000000</td>\n",
       "      <td>1.370000e+05</td>\n",
       "      <td>1600.000000</td>\n",
       "    </tr>\n",
       "    <tr>\n",
       "      <th>50%</th>\n",
       "      <td>5350.000000</td>\n",
       "      <td>2004.000000</td>\n",
       "      <td>2.285000e+05</td>\n",
       "      <td>1996.000000</td>\n",
       "    </tr>\n",
       "    <tr>\n",
       "      <th>75%</th>\n",
       "      <td>9807.500000</td>\n",
       "      <td>2010.000000</td>\n",
       "      <td>3.100000e+05</td>\n",
       "      <td>2300.000000</td>\n",
       "    </tr>\n",
       "    <tr>\n",
       "      <th>max</th>\n",
       "      <td>235235.000000</td>\n",
       "      <td>2019.000000</td>\n",
       "      <td>9.999999e+06</td>\n",
       "      <td>20000.000000</td>\n",
       "    </tr>\n",
       "  </tbody>\n",
       "</table>\n",
       "</div>"
      ],
      "text/plain": [
       "            priceUSD          year  mileage(kilometers)   volume(cm3)\n",
       "count   56244.000000  56244.000000         5.624400e+04  56197.000000\n",
       "mean     7415.456440   2003.454840         2.443956e+05   2104.860615\n",
       "std      8316.959261      8.144247         3.210307e+05    959.201633\n",
       "min        48.000000   1910.000000         0.000000e+00    500.000000\n",
       "25%      2350.000000   1998.000000         1.370000e+05   1600.000000\n",
       "50%      5350.000000   2004.000000         2.285000e+05   1996.000000\n",
       "75%      9807.500000   2010.000000         3.100000e+05   2300.000000\n",
       "max    235235.000000   2019.000000         9.999999e+06  20000.000000"
      ]
     },
     "execution_count": 10,
     "metadata": {},
     "output_type": "execute_result"
    }
   ],
   "source": [
    "raw_data.describe()"
   ]
  },
  {
   "cell_type": "code",
   "execution_count": 11,
   "metadata": {},
   "outputs": [
    {
     "data": {
      "text/plain": [
       "173000.0"
      ]
     },
     "execution_count": 11,
     "metadata": {},
     "output_type": "execute_result"
    }
   ],
   "source": [
    "mileage_p25, mileage_p75 = raw_data['mileage(kilometers)'].quantile([.25, .75])\n",
    "mileage_range = mileage_p75 - mileage_p25\n",
    "mileage_range"
   ]
  },
  {
   "cell_type": "code",
   "execution_count": 12,
   "metadata": {},
   "outputs": [
    {
     "data": {
      "text/plain": [
       "700.0"
      ]
     },
     "execution_count": 12,
     "metadata": {},
     "output_type": "execute_result"
    }
   ],
   "source": [
    "volume_p25, volume_p75 = raw_data['volume(cm3)'].quantile([.25, .75])\n",
    "volume_range = volume_p75 - volume_p25\n",
    "volume_range"
   ]
  },
  {
   "cell_type": "code",
   "execution_count": 13,
   "metadata": {},
   "outputs": [
    {
     "data": {
      "text/plain": [
       "569500.0"
      ]
     },
     "execution_count": 13,
     "metadata": {},
     "output_type": "execute_result"
    }
   ],
   "source": [
    "mileage_p75+1.5*mileage_range"
   ]
  },
  {
   "cell_type": "code",
   "execution_count": 14,
   "metadata": {},
   "outputs": [
    {
     "data": {
      "text/plain": [
       "Int64Index([  771,   893,   957,   983,  1112,  1113,  1165,  1166,  1220,\n",
       "             1228,\n",
       "            ...\n",
       "            55089, 55152, 55177, 55228, 55359, 55365, 55703, 56113, 56160,\n",
       "            56230],\n",
       "           dtype='int64', length=364)"
      ]
     },
     "execution_count": 14,
     "metadata": {},
     "output_type": "execute_result"
    }
   ],
   "source": [
    "indexes = raw_data[raw_data['mileage(kilometers)']>1000000].index\n",
    "indexes"
   ]
  },
  {
   "cell_type": "code",
   "execution_count": 15,
   "metadata": {},
   "outputs": [],
   "source": [
    "raw_data.drop(indexes, inplace=True)"
   ]
  },
  {
   "cell_type": "code",
   "execution_count": 16,
   "metadata": {},
   "outputs": [
    {
     "data": {
      "text/plain": [
       "3350.0"
      ]
     },
     "execution_count": 16,
     "metadata": {},
     "output_type": "execute_result"
    }
   ],
   "source": [
    "volume_p75+1.5*volume_range"
   ]
  },
  {
   "cell_type": "code",
   "execution_count": 17,
   "metadata": {},
   "outputs": [],
   "source": [
    "# raw_data[raw_data['volume(cm3)']>volume_p75+1.5*volume_range]"
   ]
  },
  {
   "cell_type": "code",
   "execution_count": 18,
   "metadata": {},
   "outputs": [
    {
     "data": {
      "text/plain": [
       "Int64Index([   81,   354,   929,  1537,  1768,  2144,  2479,  2587,  3411,\n",
       "             3714,  3930,  4244,  4573,  4816,  5369,  5553,  5607,  5645,\n",
       "             5908,  6052,  6065,  6197,  6286,  6338,  7070,  8803, 11717,\n",
       "            13970, 14513, 14834, 14896, 16098, 16757, 17828, 17887, 19236,\n",
       "            20494, 20860, 21094, 21774, 22134, 22362, 24102, 25914, 27961,\n",
       "            29990, 31150, 31375, 31723, 32502, 34141, 34153, 34575, 34976,\n",
       "            35017, 36100, 37056, 37172, 37721, 38032, 38053, 39315, 39686,\n",
       "            41058, 41322, 41329, 41761, 42128, 42800, 45764, 45930, 46145,\n",
       "            47014, 47229, 48156, 49091, 49922, 50712, 50723, 51889, 52597,\n",
       "            54036, 54869, 55205, 56208],\n",
       "           dtype='int64')"
      ]
     },
     "execution_count": 18,
     "metadata": {},
     "output_type": "execute_result"
    }
   ],
   "source": [
    "indexes = raw_data[raw_data['volume(cm3)']>10000].index\n",
    "indexes"
   ]
  },
  {
   "cell_type": "code",
   "execution_count": 19,
   "metadata": {},
   "outputs": [],
   "source": [
    "raw_data.drop(indexes, inplace=True)"
   ]
  },
  {
   "cell_type": "markdown",
   "metadata": {},
   "source": [
    "## Заполним пропуски"
   ]
  },
  {
   "cell_type": "code",
   "execution_count": 20,
   "metadata": {},
   "outputs": [
    {
     "data": {
      "text/plain": [
       "make                   False\n",
       "model                  False\n",
       "priceUSD               False\n",
       "year                   False\n",
       "condition              False\n",
       "mileage(kilometers)    False\n",
       "fuel_type              False\n",
       "volume(cm3)             True\n",
       "color                  False\n",
       "transmission           False\n",
       "drive_unit              True\n",
       "segment                 True\n",
       "dtype: bool"
      ]
     },
     "execution_count": 20,
     "metadata": {},
     "output_type": "execute_result"
    }
   ],
   "source": [
    "raw_data.isna().any()"
   ]
  },
  {
   "cell_type": "code",
   "execution_count": 21,
   "metadata": {},
   "outputs": [
    {
     "data": {
      "text/html": [
       "<div>\n",
       "<style scoped>\n",
       "    .dataframe tbody tr th:only-of-type {\n",
       "        vertical-align: middle;\n",
       "    }\n",
       "\n",
       "    .dataframe tbody tr th {\n",
       "        vertical-align: top;\n",
       "    }\n",
       "\n",
       "    .dataframe thead th {\n",
       "        text-align: right;\n",
       "    }\n",
       "</style>\n",
       "<table border=\"1\" class=\"dataframe\">\n",
       "  <thead>\n",
       "    <tr style=\"text-align: right;\">\n",
       "      <th></th>\n",
       "      <th>make</th>\n",
       "      <th>model</th>\n",
       "      <th>priceUSD</th>\n",
       "      <th>year</th>\n",
       "      <th>condition</th>\n",
       "      <th>mileage(kilometers)</th>\n",
       "      <th>fuel_type</th>\n",
       "      <th>volume(cm3)</th>\n",
       "      <th>color</th>\n",
       "      <th>transmission</th>\n",
       "      <th>drive_unit</th>\n",
       "      <th>segment</th>\n",
       "      <th>make_model</th>\n",
       "    </tr>\n",
       "  </thead>\n",
       "  <tbody>\n",
       "    <tr>\n",
       "      <th>53589</th>\n",
       "      <td>bmw</td>\n",
       "      <td>x5</td>\n",
       "      <td>12100</td>\n",
       "      <td>2008</td>\n",
       "      <td>with mileage</td>\n",
       "      <td>261000.0</td>\n",
       "      <td>petrol</td>\n",
       "      <td>3000.0</td>\n",
       "      <td>other</td>\n",
       "      <td>auto</td>\n",
       "      <td>all-wheel drive</td>\n",
       "      <td>J</td>\n",
       "      <td>bmw_x5</td>\n",
       "    </tr>\n",
       "  </tbody>\n",
       "</table>\n",
       "</div>"
      ],
      "text/plain": [
       "      make model  priceUSD  year     condition  mileage(kilometers) fuel_type  \\\n",
       "53589  bmw    x5     12100  2008  with mileage             261000.0    petrol   \n",
       "\n",
       "       volume(cm3)  color transmission       drive_unit segment make_model  \n",
       "53589       3000.0  other         auto  all-wheel drive       J     bmw_x5  "
      ]
     },
     "execution_count": 21,
     "metadata": {},
     "output_type": "execute_result"
    }
   ],
   "source": [
    "raw_data['make_model'] = raw_data['make'] + '_' + raw_data['model']\n",
    "raw_data.sample()"
   ]
  },
  {
   "cell_type": "code",
   "execution_count": 22,
   "metadata": {},
   "outputs": [],
   "source": [
    "desription_dict = {}\n",
    "make_models = raw_data.make_model.unique()\n",
    "\n",
    "most_freq_drive_unit = raw_data['drive_unit'].describe().top\n",
    "most_freq_segment = raw_data['segment'].describe().top\n",
    "average_volume = raw_data['volume(cm3)'].mean()\n",
    "\n",
    "for make_model in make_models:\n",
    "    if make_model not in desription_dict.keys():\n",
    "        volume_dist = raw_data[raw_data.make_model==make_model]['volume(cm3)'].value_counts()\n",
    "        if volume_dist.size != 0:\n",
    "            volume = volume_dist.idxmax()\n",
    "        else:\n",
    "            volume = average_volume\n",
    "        drive_unit = raw_data[raw_data.make_model==make_model]['drive_unit'].describe().top\n",
    "        if pd.isna(drive_unit):\n",
    "            drive_unit = most_freq_drive_unit\n",
    "        segment = raw_data[raw_data.make_model==make_model]['segment'].describe().top\n",
    "        if pd.isna(segment):\n",
    "            segment = most_freq_segment\n",
    "        desription_dict[make_model] = (volume, drive_unit, segment)"
   ]
  },
  {
   "cell_type": "code",
   "execution_count": 23,
   "metadata": {},
   "outputs": [
    {
     "data": {
      "text/plain": [
       "Series([], Name: volume(cm3), dtype: float64)"
      ]
     },
     "execution_count": 23,
     "metadata": {},
     "output_type": "execute_result"
    }
   ],
   "source": [
    "raw_data.loc[(raw_data.make_model=='mazda_3') & raw_data['volume(cm3)'].isna(), 'volume(cm3)']"
   ]
  },
  {
   "cell_type": "code",
   "execution_count": 24,
   "metadata": {},
   "outputs": [],
   "source": [
    "for make_model in make_models:\n",
    "    raw_data.loc[(raw_data.make_model==make_model) & raw_data['volume(cm3)'].isna(), 'volume(cm3)'] = desription_dict[make_model][0]\n",
    "    raw_data.loc[(raw_data.make_model==make_model) & raw_data['drive_unit'].isna(), 'drive_unit'] = desription_dict[make_model][1]\n",
    "    raw_data.loc[(raw_data.make_model==make_model) & raw_data['segment'].isna(), 'segment'] = desription_dict[make_model][2]"
   ]
  },
  {
   "cell_type": "code",
   "execution_count": 25,
   "metadata": {},
   "outputs": [
    {
     "data": {
      "text/plain": [
       "make                   False\n",
       "model                  False\n",
       "priceUSD               False\n",
       "year                   False\n",
       "condition              False\n",
       "mileage(kilometers)    False\n",
       "fuel_type              False\n",
       "volume(cm3)            False\n",
       "color                  False\n",
       "transmission           False\n",
       "drive_unit             False\n",
       "segment                False\n",
       "make_model             False\n",
       "dtype: bool"
      ]
     },
     "execution_count": 25,
     "metadata": {},
     "output_type": "execute_result"
    }
   ],
   "source": [
    "raw_data.isna().any()"
   ]
  },
  {
   "cell_type": "markdown",
   "metadata": {},
   "source": [
    "## Изменим столбец с годом выпуска"
   ]
  },
  {
   "cell_type": "code",
   "execution_count": 26,
   "metadata": {},
   "outputs": [],
   "source": [
    "raw_data['year'] = 2019 - raw_data['year']"
   ]
  },
  {
   "cell_type": "markdown",
   "metadata": {},
   "source": [
    "## Обработаем категориальные признаки"
   ]
  },
  {
   "cell_type": "code",
   "execution_count": 27,
   "metadata": {},
   "outputs": [
    {
     "data": {
      "text/html": [
       "<div>\n",
       "<style scoped>\n",
       "    .dataframe tbody tr th:only-of-type {\n",
       "        vertical-align: middle;\n",
       "    }\n",
       "\n",
       "    .dataframe tbody tr th {\n",
       "        vertical-align: top;\n",
       "    }\n",
       "\n",
       "    .dataframe thead th {\n",
       "        text-align: right;\n",
       "    }\n",
       "</style>\n",
       "<table border=\"1\" class=\"dataframe\">\n",
       "  <thead>\n",
       "    <tr style=\"text-align: right;\">\n",
       "      <th></th>\n",
       "      <th>make</th>\n",
       "      <th>model</th>\n",
       "      <th>year</th>\n",
       "      <th>condition</th>\n",
       "      <th>mileage(kilometers)</th>\n",
       "      <th>fuel_type</th>\n",
       "      <th>volume(cm3)</th>\n",
       "      <th>color</th>\n",
       "      <th>transmission</th>\n",
       "      <th>drive_unit</th>\n",
       "      <th>segment</th>\n",
       "    </tr>\n",
       "  </thead>\n",
       "  <tbody>\n",
       "    <tr>\n",
       "      <th>0</th>\n",
       "      <td>mazda</td>\n",
       "      <td>2</td>\n",
       "      <td>11</td>\n",
       "      <td>with mileage</td>\n",
       "      <td>162000.0</td>\n",
       "      <td>petrol</td>\n",
       "      <td>1500.0</td>\n",
       "      <td>burgundy</td>\n",
       "      <td>mechanics</td>\n",
       "      <td>front-wheel drive</td>\n",
       "      <td>B</td>\n",
       "    </tr>\n",
       "    <tr>\n",
       "      <th>1</th>\n",
       "      <td>mazda</td>\n",
       "      <td>2</td>\n",
       "      <td>10</td>\n",
       "      <td>with mileage</td>\n",
       "      <td>120000.0</td>\n",
       "      <td>petrol</td>\n",
       "      <td>1300.0</td>\n",
       "      <td>black</td>\n",
       "      <td>mechanics</td>\n",
       "      <td>front-wheel drive</td>\n",
       "      <td>B</td>\n",
       "    </tr>\n",
       "    <tr>\n",
       "      <th>2</th>\n",
       "      <td>mazda</td>\n",
       "      <td>2</td>\n",
       "      <td>10</td>\n",
       "      <td>with mileage</td>\n",
       "      <td>61000.0</td>\n",
       "      <td>petrol</td>\n",
       "      <td>1500.0</td>\n",
       "      <td>silver</td>\n",
       "      <td>auto</td>\n",
       "      <td>front-wheel drive</td>\n",
       "      <td>B</td>\n",
       "    </tr>\n",
       "    <tr>\n",
       "      <th>3</th>\n",
       "      <td>mazda</td>\n",
       "      <td>2</td>\n",
       "      <td>16</td>\n",
       "      <td>with mileage</td>\n",
       "      <td>265000.0</td>\n",
       "      <td>diesel</td>\n",
       "      <td>1400.0</td>\n",
       "      <td>white</td>\n",
       "      <td>mechanics</td>\n",
       "      <td>front-wheel drive</td>\n",
       "      <td>B</td>\n",
       "    </tr>\n",
       "    <tr>\n",
       "      <th>4</th>\n",
       "      <td>mazda</td>\n",
       "      <td>2</td>\n",
       "      <td>11</td>\n",
       "      <td>with mileage</td>\n",
       "      <td>97183.0</td>\n",
       "      <td>diesel</td>\n",
       "      <td>1400.0</td>\n",
       "      <td>gray</td>\n",
       "      <td>mechanics</td>\n",
       "      <td>front-wheel drive</td>\n",
       "      <td>B</td>\n",
       "    </tr>\n",
       "    <tr>\n",
       "      <th>...</th>\n",
       "      <td>...</td>\n",
       "      <td>...</td>\n",
       "      <td>...</td>\n",
       "      <td>...</td>\n",
       "      <td>...</td>\n",
       "      <td>...</td>\n",
       "      <td>...</td>\n",
       "      <td>...</td>\n",
       "      <td>...</td>\n",
       "      <td>...</td>\n",
       "      <td>...</td>\n",
       "    </tr>\n",
       "    <tr>\n",
       "      <th>56239</th>\n",
       "      <td>lancia</td>\n",
       "      <td>zeta</td>\n",
       "      <td>19</td>\n",
       "      <td>with mileage</td>\n",
       "      <td>290000.0</td>\n",
       "      <td>petrol</td>\n",
       "      <td>2000.0</td>\n",
       "      <td>other</td>\n",
       "      <td>mechanics</td>\n",
       "      <td>front-wheel drive</td>\n",
       "      <td>M</td>\n",
       "    </tr>\n",
       "    <tr>\n",
       "      <th>56240</th>\n",
       "      <td>lancia</td>\n",
       "      <td>zeta</td>\n",
       "      <td>20</td>\n",
       "      <td>with mileage</td>\n",
       "      <td>340000.0</td>\n",
       "      <td>diesel</td>\n",
       "      <td>2100.0</td>\n",
       "      <td>blue</td>\n",
       "      <td>mechanics</td>\n",
       "      <td>front-wheel drive</td>\n",
       "      <td>M</td>\n",
       "    </tr>\n",
       "    <tr>\n",
       "      <th>56241</th>\n",
       "      <td>lancia</td>\n",
       "      <td>zeta</td>\n",
       "      <td>22</td>\n",
       "      <td>with mileage</td>\n",
       "      <td>354000.0</td>\n",
       "      <td>diesel</td>\n",
       "      <td>2100.0</td>\n",
       "      <td>burgundy</td>\n",
       "      <td>mechanics</td>\n",
       "      <td>front-wheel drive</td>\n",
       "      <td>M</td>\n",
       "    </tr>\n",
       "    <tr>\n",
       "      <th>56242</th>\n",
       "      <td>lancia</td>\n",
       "      <td>zeta</td>\n",
       "      <td>22</td>\n",
       "      <td>with mileage</td>\n",
       "      <td>350000.0</td>\n",
       "      <td>petrol</td>\n",
       "      <td>2000.0</td>\n",
       "      <td>blue</td>\n",
       "      <td>mechanics</td>\n",
       "      <td>front-wheel drive</td>\n",
       "      <td>M</td>\n",
       "    </tr>\n",
       "    <tr>\n",
       "      <th>56243</th>\n",
       "      <td>lancia</td>\n",
       "      <td>zeta</td>\n",
       "      <td>23</td>\n",
       "      <td>with mileage</td>\n",
       "      <td>3.0</td>\n",
       "      <td>petrol</td>\n",
       "      <td>2000.0</td>\n",
       "      <td>burgundy</td>\n",
       "      <td>mechanics</td>\n",
       "      <td>front-wheel drive</td>\n",
       "      <td>M</td>\n",
       "    </tr>\n",
       "  </tbody>\n",
       "</table>\n",
       "<p>55795 rows × 11 columns</p>\n",
       "</div>"
      ],
      "text/plain": [
       "         make model  year     condition  mileage(kilometers) fuel_type  \\\n",
       "0       mazda     2    11  with mileage             162000.0    petrol   \n",
       "1       mazda     2    10  with mileage             120000.0    petrol   \n",
       "2       mazda     2    10  with mileage              61000.0    petrol   \n",
       "3       mazda     2    16  with mileage             265000.0    diesel   \n",
       "4       mazda     2    11  with mileage              97183.0    diesel   \n",
       "...       ...   ...   ...           ...                  ...       ...   \n",
       "56239  lancia  zeta    19  with mileage             290000.0    petrol   \n",
       "56240  lancia  zeta    20  with mileage             340000.0    diesel   \n",
       "56241  lancia  zeta    22  with mileage             354000.0    diesel   \n",
       "56242  lancia  zeta    22  with mileage             350000.0    petrol   \n",
       "56243  lancia  zeta    23  with mileage                  3.0    petrol   \n",
       "\n",
       "       volume(cm3)     color transmission         drive_unit segment  \n",
       "0           1500.0  burgundy    mechanics  front-wheel drive       B  \n",
       "1           1300.0     black    mechanics  front-wheel drive       B  \n",
       "2           1500.0    silver         auto  front-wheel drive       B  \n",
       "3           1400.0     white    mechanics  front-wheel drive       B  \n",
       "4           1400.0      gray    mechanics  front-wheel drive       B  \n",
       "...            ...       ...          ...                ...     ...  \n",
       "56239       2000.0     other    mechanics  front-wheel drive       M  \n",
       "56240       2100.0      blue    mechanics  front-wheel drive       M  \n",
       "56241       2100.0  burgundy    mechanics  front-wheel drive       M  \n",
       "56242       2000.0      blue    mechanics  front-wheel drive       M  \n",
       "56243       2000.0  burgundy    mechanics  front-wheel drive       M  \n",
       "\n",
       "[55795 rows x 11 columns]"
      ]
     },
     "execution_count": 27,
     "metadata": {},
     "output_type": "execute_result"
    }
   ],
   "source": [
    "raw_data.drop('make_model', axis=1, inplace=True)\n",
    "y = raw_data['priceUSD']\n",
    "X = raw_data.drop('priceUSD', axis=1)\n",
    "X"
   ]
  },
  {
   "cell_type": "code",
   "execution_count": 28,
   "metadata": {},
   "outputs": [
    {
     "data": {
      "text/plain": [
       "0        5500\n",
       "1        5350\n",
       "2        7000\n",
       "3        3300\n",
       "4        5200\n",
       "         ... \n",
       "56239    3650\n",
       "56240    4100\n",
       "56241    3600\n",
       "56242    3000\n",
       "56243    2950\n",
       "Name: priceUSD, Length: 55795, dtype: int64"
      ]
     },
     "execution_count": 28,
     "metadata": {},
     "output_type": "execute_result"
    }
   ],
   "source": [
    "y"
   ]
  },
  {
   "cell_type": "code",
   "execution_count": 29,
   "metadata": {},
   "outputs": [],
   "source": [
    "from sklearn.preprocessing import OneHotEncoder\n",
    "from sklearn.compose import ColumnTransformer"
   ]
  },
  {
   "cell_type": "code",
   "execution_count": 30,
   "metadata": {},
   "outputs": [],
   "source": [
    "categorial_features = ['make', 'model', 'condition', 'fuel_type', 'transmission', 'drive_unit', 'segment', 'color']\n",
    "ct = ColumnTransformer([('Categorial', OneHotEncoder(sparse=True), categorial_features)], remainder='passthrough')\n",
    "X = ct.fit_transform(X)"
   ]
  },
  {
   "cell_type": "code",
   "execution_count": 31,
   "metadata": {},
   "outputs": [
    {
     "data": {
      "text/html": [
       "<div>\n",
       "<style scoped>\n",
       "    .dataframe tbody tr th:only-of-type {\n",
       "        vertical-align: middle;\n",
       "    }\n",
       "\n",
       "    .dataframe tbody tr th {\n",
       "        vertical-align: top;\n",
       "    }\n",
       "\n",
       "    .dataframe thead th {\n",
       "        text-align: right;\n",
       "    }\n",
       "</style>\n",
       "<table border=\"1\" class=\"dataframe\">\n",
       "  <thead>\n",
       "    <tr style=\"text-align: right;\">\n",
       "      <th></th>\n",
       "      <th>0</th>\n",
       "      <th>1</th>\n",
       "      <th>2</th>\n",
       "      <th>3</th>\n",
       "      <th>4</th>\n",
       "      <th>5</th>\n",
       "      <th>6</th>\n",
       "      <th>7</th>\n",
       "      <th>8</th>\n",
       "      <th>9</th>\n",
       "      <th>...</th>\n",
       "      <th>1157</th>\n",
       "      <th>1158</th>\n",
       "      <th>1159</th>\n",
       "      <th>1160</th>\n",
       "      <th>1161</th>\n",
       "      <th>1162</th>\n",
       "      <th>1163</th>\n",
       "      <th>1164</th>\n",
       "      <th>1165</th>\n",
       "      <th>1166</th>\n",
       "    </tr>\n",
       "  </thead>\n",
       "  <tbody>\n",
       "    <tr>\n",
       "      <th>0</th>\n",
       "      <td>0.0</td>\n",
       "      <td>0.0</td>\n",
       "      <td>0.0</td>\n",
       "      <td>0.0</td>\n",
       "      <td>0.0</td>\n",
       "      <td>0.0</td>\n",
       "      <td>0.0</td>\n",
       "      <td>0.0</td>\n",
       "      <td>0.0</td>\n",
       "      <td>0.0</td>\n",
       "      <td>...</td>\n",
       "      <td>0.0</td>\n",
       "      <td>0.0</td>\n",
       "      <td>0.0</td>\n",
       "      <td>0.0</td>\n",
       "      <td>0.0</td>\n",
       "      <td>0.0</td>\n",
       "      <td>0.0</td>\n",
       "      <td>11.0</td>\n",
       "      <td>162000.0</td>\n",
       "      <td>1500.0</td>\n",
       "    </tr>\n",
       "    <tr>\n",
       "      <th>1</th>\n",
       "      <td>0.0</td>\n",
       "      <td>0.0</td>\n",
       "      <td>0.0</td>\n",
       "      <td>0.0</td>\n",
       "      <td>0.0</td>\n",
       "      <td>0.0</td>\n",
       "      <td>0.0</td>\n",
       "      <td>0.0</td>\n",
       "      <td>0.0</td>\n",
       "      <td>0.0</td>\n",
       "      <td>...</td>\n",
       "      <td>0.0</td>\n",
       "      <td>0.0</td>\n",
       "      <td>0.0</td>\n",
       "      <td>0.0</td>\n",
       "      <td>0.0</td>\n",
       "      <td>0.0</td>\n",
       "      <td>0.0</td>\n",
       "      <td>10.0</td>\n",
       "      <td>120000.0</td>\n",
       "      <td>1300.0</td>\n",
       "    </tr>\n",
       "    <tr>\n",
       "      <th>2</th>\n",
       "      <td>0.0</td>\n",
       "      <td>0.0</td>\n",
       "      <td>0.0</td>\n",
       "      <td>0.0</td>\n",
       "      <td>0.0</td>\n",
       "      <td>0.0</td>\n",
       "      <td>0.0</td>\n",
       "      <td>0.0</td>\n",
       "      <td>0.0</td>\n",
       "      <td>0.0</td>\n",
       "      <td>...</td>\n",
       "      <td>0.0</td>\n",
       "      <td>0.0</td>\n",
       "      <td>0.0</td>\n",
       "      <td>0.0</td>\n",
       "      <td>1.0</td>\n",
       "      <td>0.0</td>\n",
       "      <td>0.0</td>\n",
       "      <td>10.0</td>\n",
       "      <td>61000.0</td>\n",
       "      <td>1500.0</td>\n",
       "    </tr>\n",
       "    <tr>\n",
       "      <th>3</th>\n",
       "      <td>0.0</td>\n",
       "      <td>0.0</td>\n",
       "      <td>0.0</td>\n",
       "      <td>0.0</td>\n",
       "      <td>0.0</td>\n",
       "      <td>0.0</td>\n",
       "      <td>0.0</td>\n",
       "      <td>0.0</td>\n",
       "      <td>0.0</td>\n",
       "      <td>0.0</td>\n",
       "      <td>...</td>\n",
       "      <td>0.0</td>\n",
       "      <td>0.0</td>\n",
       "      <td>0.0</td>\n",
       "      <td>0.0</td>\n",
       "      <td>0.0</td>\n",
       "      <td>1.0</td>\n",
       "      <td>0.0</td>\n",
       "      <td>16.0</td>\n",
       "      <td>265000.0</td>\n",
       "      <td>1400.0</td>\n",
       "    </tr>\n",
       "    <tr>\n",
       "      <th>4</th>\n",
       "      <td>0.0</td>\n",
       "      <td>0.0</td>\n",
       "      <td>0.0</td>\n",
       "      <td>0.0</td>\n",
       "      <td>0.0</td>\n",
       "      <td>0.0</td>\n",
       "      <td>0.0</td>\n",
       "      <td>0.0</td>\n",
       "      <td>0.0</td>\n",
       "      <td>0.0</td>\n",
       "      <td>...</td>\n",
       "      <td>0.0</td>\n",
       "      <td>0.0</td>\n",
       "      <td>0.0</td>\n",
       "      <td>0.0</td>\n",
       "      <td>0.0</td>\n",
       "      <td>0.0</td>\n",
       "      <td>0.0</td>\n",
       "      <td>11.0</td>\n",
       "      <td>97183.0</td>\n",
       "      <td>1400.0</td>\n",
       "    </tr>\n",
       "    <tr>\n",
       "      <th>...</th>\n",
       "      <td>...</td>\n",
       "      <td>...</td>\n",
       "      <td>...</td>\n",
       "      <td>...</td>\n",
       "      <td>...</td>\n",
       "      <td>...</td>\n",
       "      <td>...</td>\n",
       "      <td>...</td>\n",
       "      <td>...</td>\n",
       "      <td>...</td>\n",
       "      <td>...</td>\n",
       "      <td>...</td>\n",
       "      <td>...</td>\n",
       "      <td>...</td>\n",
       "      <td>...</td>\n",
       "      <td>...</td>\n",
       "      <td>...</td>\n",
       "      <td>...</td>\n",
       "      <td>...</td>\n",
       "      <td>...</td>\n",
       "      <td>...</td>\n",
       "    </tr>\n",
       "    <tr>\n",
       "      <th>55790</th>\n",
       "      <td>0.0</td>\n",
       "      <td>0.0</td>\n",
       "      <td>0.0</td>\n",
       "      <td>0.0</td>\n",
       "      <td>0.0</td>\n",
       "      <td>0.0</td>\n",
       "      <td>0.0</td>\n",
       "      <td>0.0</td>\n",
       "      <td>0.0</td>\n",
       "      <td>0.0</td>\n",
       "      <td>...</td>\n",
       "      <td>0.0</td>\n",
       "      <td>1.0</td>\n",
       "      <td>0.0</td>\n",
       "      <td>0.0</td>\n",
       "      <td>0.0</td>\n",
       "      <td>0.0</td>\n",
       "      <td>0.0</td>\n",
       "      <td>19.0</td>\n",
       "      <td>290000.0</td>\n",
       "      <td>2000.0</td>\n",
       "    </tr>\n",
       "    <tr>\n",
       "      <th>55791</th>\n",
       "      <td>0.0</td>\n",
       "      <td>0.0</td>\n",
       "      <td>0.0</td>\n",
       "      <td>0.0</td>\n",
       "      <td>0.0</td>\n",
       "      <td>0.0</td>\n",
       "      <td>0.0</td>\n",
       "      <td>0.0</td>\n",
       "      <td>0.0</td>\n",
       "      <td>0.0</td>\n",
       "      <td>...</td>\n",
       "      <td>0.0</td>\n",
       "      <td>0.0</td>\n",
       "      <td>0.0</td>\n",
       "      <td>0.0</td>\n",
       "      <td>0.0</td>\n",
       "      <td>0.0</td>\n",
       "      <td>0.0</td>\n",
       "      <td>20.0</td>\n",
       "      <td>340000.0</td>\n",
       "      <td>2100.0</td>\n",
       "    </tr>\n",
       "    <tr>\n",
       "      <th>55792</th>\n",
       "      <td>0.0</td>\n",
       "      <td>0.0</td>\n",
       "      <td>0.0</td>\n",
       "      <td>0.0</td>\n",
       "      <td>0.0</td>\n",
       "      <td>0.0</td>\n",
       "      <td>0.0</td>\n",
       "      <td>0.0</td>\n",
       "      <td>0.0</td>\n",
       "      <td>0.0</td>\n",
       "      <td>...</td>\n",
       "      <td>0.0</td>\n",
       "      <td>0.0</td>\n",
       "      <td>0.0</td>\n",
       "      <td>0.0</td>\n",
       "      <td>0.0</td>\n",
       "      <td>0.0</td>\n",
       "      <td>0.0</td>\n",
       "      <td>22.0</td>\n",
       "      <td>354000.0</td>\n",
       "      <td>2100.0</td>\n",
       "    </tr>\n",
       "    <tr>\n",
       "      <th>55793</th>\n",
       "      <td>0.0</td>\n",
       "      <td>0.0</td>\n",
       "      <td>0.0</td>\n",
       "      <td>0.0</td>\n",
       "      <td>0.0</td>\n",
       "      <td>0.0</td>\n",
       "      <td>0.0</td>\n",
       "      <td>0.0</td>\n",
       "      <td>0.0</td>\n",
       "      <td>0.0</td>\n",
       "      <td>...</td>\n",
       "      <td>0.0</td>\n",
       "      <td>0.0</td>\n",
       "      <td>0.0</td>\n",
       "      <td>0.0</td>\n",
       "      <td>0.0</td>\n",
       "      <td>0.0</td>\n",
       "      <td>0.0</td>\n",
       "      <td>22.0</td>\n",
       "      <td>350000.0</td>\n",
       "      <td>2000.0</td>\n",
       "    </tr>\n",
       "    <tr>\n",
       "      <th>55794</th>\n",
       "      <td>0.0</td>\n",
       "      <td>0.0</td>\n",
       "      <td>0.0</td>\n",
       "      <td>0.0</td>\n",
       "      <td>0.0</td>\n",
       "      <td>0.0</td>\n",
       "      <td>0.0</td>\n",
       "      <td>0.0</td>\n",
       "      <td>0.0</td>\n",
       "      <td>0.0</td>\n",
       "      <td>...</td>\n",
       "      <td>0.0</td>\n",
       "      <td>0.0</td>\n",
       "      <td>0.0</td>\n",
       "      <td>0.0</td>\n",
       "      <td>0.0</td>\n",
       "      <td>0.0</td>\n",
       "      <td>0.0</td>\n",
       "      <td>23.0</td>\n",
       "      <td>3.0</td>\n",
       "      <td>2000.0</td>\n",
       "    </tr>\n",
       "  </tbody>\n",
       "</table>\n",
       "<p>55795 rows × 1167 columns</p>\n",
       "</div>"
      ],
      "text/plain": [
       "       0     1     2     3     4     5     6     7     8     9     ...  1157  \\\n",
       "0       0.0   0.0   0.0   0.0   0.0   0.0   0.0   0.0   0.0   0.0  ...   0.0   \n",
       "1       0.0   0.0   0.0   0.0   0.0   0.0   0.0   0.0   0.0   0.0  ...   0.0   \n",
       "2       0.0   0.0   0.0   0.0   0.0   0.0   0.0   0.0   0.0   0.0  ...   0.0   \n",
       "3       0.0   0.0   0.0   0.0   0.0   0.0   0.0   0.0   0.0   0.0  ...   0.0   \n",
       "4       0.0   0.0   0.0   0.0   0.0   0.0   0.0   0.0   0.0   0.0  ...   0.0   \n",
       "...     ...   ...   ...   ...   ...   ...   ...   ...   ...   ...  ...   ...   \n",
       "55790   0.0   0.0   0.0   0.0   0.0   0.0   0.0   0.0   0.0   0.0  ...   0.0   \n",
       "55791   0.0   0.0   0.0   0.0   0.0   0.0   0.0   0.0   0.0   0.0  ...   0.0   \n",
       "55792   0.0   0.0   0.0   0.0   0.0   0.0   0.0   0.0   0.0   0.0  ...   0.0   \n",
       "55793   0.0   0.0   0.0   0.0   0.0   0.0   0.0   0.0   0.0   0.0  ...   0.0   \n",
       "55794   0.0   0.0   0.0   0.0   0.0   0.0   0.0   0.0   0.0   0.0  ...   0.0   \n",
       "\n",
       "       1158  1159  1160  1161  1162  1163  1164      1165    1166  \n",
       "0       0.0   0.0   0.0   0.0   0.0   0.0  11.0  162000.0  1500.0  \n",
       "1       0.0   0.0   0.0   0.0   0.0   0.0  10.0  120000.0  1300.0  \n",
       "2       0.0   0.0   0.0   1.0   0.0   0.0  10.0   61000.0  1500.0  \n",
       "3       0.0   0.0   0.0   0.0   1.0   0.0  16.0  265000.0  1400.0  \n",
       "4       0.0   0.0   0.0   0.0   0.0   0.0  11.0   97183.0  1400.0  \n",
       "...     ...   ...   ...   ...   ...   ...   ...       ...     ...  \n",
       "55790   1.0   0.0   0.0   0.0   0.0   0.0  19.0  290000.0  2000.0  \n",
       "55791   0.0   0.0   0.0   0.0   0.0   0.0  20.0  340000.0  2100.0  \n",
       "55792   0.0   0.0   0.0   0.0   0.0   0.0  22.0  354000.0  2100.0  \n",
       "55793   0.0   0.0   0.0   0.0   0.0   0.0  22.0  350000.0  2000.0  \n",
       "55794   0.0   0.0   0.0   0.0   0.0   0.0  23.0       3.0  2000.0  \n",
       "\n",
       "[55795 rows x 1167 columns]"
      ]
     },
     "execution_count": 31,
     "metadata": {},
     "output_type": "execute_result"
    }
   ],
   "source": [
    "pd.DataFrame(X.toarray())"
   ]
  },
  {
   "cell_type": "markdown",
   "metadata": {},
   "source": [
    "# Обучение моделей"
   ]
  },
  {
   "cell_type": "code",
   "execution_count": 32,
   "metadata": {},
   "outputs": [],
   "source": [
    "from sklearn.metrics import make_scorer\n",
    "# from sklearn.utils import check_array\n",
    "# from sklearn.pipeline import Pipeline, make_pipeline\n",
    "from sklearn.model_selection import GridSearchCV, cross_val_score, KFold, train_test_split, cross_validate\n",
    "from sklearn.preprocessing import StandardScaler, MinMaxScaler\n",
    "\n",
    "def mean_absolute_percentage_error(y_true, y_pred):\n",
    "    # y_true, y_pred = check_array(y_true, y_pred)\n",
    "    return np.mean(np.abs((y_true - y_pred) / y_true)) * 100\n",
    "\n",
    "def median_absolute_percentage_error(y_true, y_pred):\n",
    "    return np.median(np.abs((y_true - y_pred) / y_true)) * 100\n",
    "\n",
    "mape = make_scorer(mean_absolute_percentage_error, greater_is_better=False)\n",
    "medape = make_scorer(median_absolute_percentage_error, greater_is_better=False)\n",
    "scoring = {'mae': 'neg_mean_absolute_error', 'mape': mape, 'medape': medape}"
   ]
  },
  {
   "cell_type": "markdown",
   "metadata": {},
   "source": [
    "## Градиентный бустинг"
   ]
  },
  {
   "cell_type": "code",
   "execution_count": 33,
   "metadata": {},
   "outputs": [],
   "source": [
    "from xgboost import XGBRegressor"
   ]
  },
  {
   "cell_type": "code",
   "execution_count": 32,
   "metadata": {},
   "outputs": [],
   "source": [
    "param_grid = {'learning_rate': [0.01, 0.3], 'max_depth':[6, 10], 'n_estimators':[4000]}\n",
    "searching = GridSearchCV(XGBRegressor(), param_grid, cv=KFold(n_splits=5, shuffle=True), n_jobs=3, scoring='neg_mean_absolute_error')"
   ]
  },
  {
   "cell_type": "code",
   "execution_count": 33,
   "metadata": {},
   "outputs": [
    {
     "data": {
      "text/plain": [
       "GridSearchCV(cv=KFold(n_splits=5, random_state=None, shuffle=True),\n",
       "             estimator=XGBRegressor(base_score=None, booster=None,\n",
       "                                    colsample_bylevel=None,\n",
       "                                    colsample_bynode=None,\n",
       "                                    colsample_bytree=None, gamma=None,\n",
       "                                    gpu_id=None, importance_type='gain',\n",
       "                                    interaction_constraints=None,\n",
       "                                    learning_rate=None, max_delta_step=None,\n",
       "                                    max_depth=None, min_child_weight=None,\n",
       "                                    missing=nan, monotone_constraints=None,\n",
       "                                    n_estimators=100, n_jobs=None,\n",
       "                                    num_parallel_tree=None, random_state=None,\n",
       "                                    reg_alpha=None, reg_lambda=None,\n",
       "                                    scale_pos_weight=None, subsample=None,\n",
       "                                    tree_method=None, validate_parameters=None,\n",
       "                                    verbosity=None),\n",
       "             n_jobs=3,\n",
       "             param_grid={'learning_rate': [0.01, 0.3], 'max_depth': [6, 10],\n",
       "                         'n_estimators': [4000]},\n",
       "             scoring='neg_mean_absolute_error')"
      ]
     },
     "execution_count": 33,
     "metadata": {},
     "output_type": "execute_result"
    }
   ],
   "source": [
    "searching.fit(X, y)"
   ]
  },
  {
   "cell_type": "code",
   "execution_count": 34,
   "metadata": {},
   "outputs": [
    {
     "data": {
      "text/html": [
       "<div>\n",
       "<style scoped>\n",
       "    .dataframe tbody tr th:only-of-type {\n",
       "        vertical-align: middle;\n",
       "    }\n",
       "\n",
       "    .dataframe tbody tr th {\n",
       "        vertical-align: top;\n",
       "    }\n",
       "\n",
       "    .dataframe thead th {\n",
       "        text-align: right;\n",
       "    }\n",
       "</style>\n",
       "<table border=\"1\" class=\"dataframe\">\n",
       "  <thead>\n",
       "    <tr style=\"text-align: right;\">\n",
       "      <th></th>\n",
       "      <th>mean_fit_time</th>\n",
       "      <th>std_fit_time</th>\n",
       "      <th>mean_score_time</th>\n",
       "      <th>std_score_time</th>\n",
       "      <th>param_learning_rate</th>\n",
       "      <th>param_max_depth</th>\n",
       "      <th>param_n_estimators</th>\n",
       "      <th>params</th>\n",
       "      <th>split0_test_score</th>\n",
       "      <th>split1_test_score</th>\n",
       "      <th>split2_test_score</th>\n",
       "      <th>split3_test_score</th>\n",
       "      <th>split4_test_score</th>\n",
       "      <th>mean_test_score</th>\n",
       "      <th>std_test_score</th>\n",
       "      <th>rank_test_score</th>\n",
       "    </tr>\n",
       "  </thead>\n",
       "  <tbody>\n",
       "    <tr>\n",
       "      <th>0</th>\n",
       "      <td>230.313851</td>\n",
       "      <td>1.548351</td>\n",
       "      <td>14.733609</td>\n",
       "      <td>2.403424</td>\n",
       "      <td>0.01</td>\n",
       "      <td>6</td>\n",
       "      <td>4000</td>\n",
       "      <td>{'learning_rate': 0.01, 'max_depth': 6, 'n_est...</td>\n",
       "      <td>-1164.784475</td>\n",
       "      <td>-1137.335199</td>\n",
       "      <td>-1133.673187</td>\n",
       "      <td>-1116.643408</td>\n",
       "      <td>-1139.231444</td>\n",
       "      <td>-1138.333543</td>\n",
       "      <td>15.450797</td>\n",
       "      <td>4</td>\n",
       "    </tr>\n",
       "    <tr>\n",
       "      <th>1</th>\n",
       "      <td>390.082553</td>\n",
       "      <td>11.960956</td>\n",
       "      <td>18.925035</td>\n",
       "      <td>2.868952</td>\n",
       "      <td>0.01</td>\n",
       "      <td>10</td>\n",
       "      <td>4000</td>\n",
       "      <td>{'learning_rate': 0.01, 'max_depth': 10, 'n_es...</td>\n",
       "      <td>-1064.766491</td>\n",
       "      <td>-1028.684881</td>\n",
       "      <td>-1018.866583</td>\n",
       "      <td>-1003.643941</td>\n",
       "      <td>-1022.699096</td>\n",
       "      <td>-1027.732198</td>\n",
       "      <td>20.281133</td>\n",
       "      <td>1</td>\n",
       "    </tr>\n",
       "    <tr>\n",
       "      <th>2</th>\n",
       "      <td>236.785660</td>\n",
       "      <td>5.352109</td>\n",
       "      <td>12.568474</td>\n",
       "      <td>1.788622</td>\n",
       "      <td>0.3</td>\n",
       "      <td>6</td>\n",
       "      <td>4000</td>\n",
       "      <td>{'learning_rate': 0.3, 'max_depth': 6, 'n_esti...</td>\n",
       "      <td>-1074.142655</td>\n",
       "      <td>-1033.491189</td>\n",
       "      <td>-1029.194109</td>\n",
       "      <td>-1022.003682</td>\n",
       "      <td>-1039.514472</td>\n",
       "      <td>-1039.669222</td>\n",
       "      <td>18.157141</td>\n",
       "      <td>2</td>\n",
       "    </tr>\n",
       "    <tr>\n",
       "      <th>3</th>\n",
       "      <td>370.494229</td>\n",
       "      <td>47.930897</td>\n",
       "      <td>21.334853</td>\n",
       "      <td>4.512236</td>\n",
       "      <td>0.3</td>\n",
       "      <td>10</td>\n",
       "      <td>4000</td>\n",
       "      <td>{'learning_rate': 0.3, 'max_depth': 10, 'n_est...</td>\n",
       "      <td>-1112.063656</td>\n",
       "      <td>-1086.127461</td>\n",
       "      <td>-1079.270067</td>\n",
       "      <td>-1062.284306</td>\n",
       "      <td>-1088.607232</td>\n",
       "      <td>-1085.670544</td>\n",
       "      <td>16.082982</td>\n",
       "      <td>3</td>\n",
       "    </tr>\n",
       "  </tbody>\n",
       "</table>\n",
       "</div>"
      ],
      "text/plain": [
       "   mean_fit_time  std_fit_time  mean_score_time  std_score_time  \\\n",
       "0     230.313851      1.548351        14.733609        2.403424   \n",
       "1     390.082553     11.960956        18.925035        2.868952   \n",
       "2     236.785660      5.352109        12.568474        1.788622   \n",
       "3     370.494229     47.930897        21.334853        4.512236   \n",
       "\n",
       "  param_learning_rate param_max_depth param_n_estimators  \\\n",
       "0                0.01               6               4000   \n",
       "1                0.01              10               4000   \n",
       "2                 0.3               6               4000   \n",
       "3                 0.3              10               4000   \n",
       "\n",
       "                                              params  split0_test_score  \\\n",
       "0  {'learning_rate': 0.01, 'max_depth': 6, 'n_est...       -1164.784475   \n",
       "1  {'learning_rate': 0.01, 'max_depth': 10, 'n_es...       -1064.766491   \n",
       "2  {'learning_rate': 0.3, 'max_depth': 6, 'n_esti...       -1074.142655   \n",
       "3  {'learning_rate': 0.3, 'max_depth': 10, 'n_est...       -1112.063656   \n",
       "\n",
       "   split1_test_score  split2_test_score  split3_test_score  split4_test_score  \\\n",
       "0       -1137.335199       -1133.673187       -1116.643408       -1139.231444   \n",
       "1       -1028.684881       -1018.866583       -1003.643941       -1022.699096   \n",
       "2       -1033.491189       -1029.194109       -1022.003682       -1039.514472   \n",
       "3       -1086.127461       -1079.270067       -1062.284306       -1088.607232   \n",
       "\n",
       "   mean_test_score  std_test_score  rank_test_score  \n",
       "0     -1138.333543       15.450797                4  \n",
       "1     -1027.732198       20.281133                1  \n",
       "2     -1039.669222       18.157141                2  \n",
       "3     -1085.670544       16.082982                3  "
      ]
     },
     "execution_count": 34,
     "metadata": {},
     "output_type": "execute_result"
    }
   ],
   "source": [
    "pd.DataFrame(searching.cv_results_)"
   ]
  },
  {
   "cell_type": "code",
   "execution_count": 35,
   "metadata": {},
   "outputs": [
    {
     "data": {
      "text/plain": [
       "(-1027.7321982012722,\n",
       " {'learning_rate': 0.01, 'max_depth': 10, 'n_estimators': 4000})"
      ]
     },
     "execution_count": 35,
     "metadata": {},
     "output_type": "execute_result"
    }
   ],
   "source": [
    "searching.best_score_, searching.best_params_"
   ]
  },
  {
   "cell_type": "code",
   "execution_count": 34,
   "metadata": {},
   "outputs": [],
   "source": [
    "grad_boosting = XGBRegressor(learning_rate = 0.01, max_depth=10, n_estimators=4000)"
   ]
  },
  {
   "cell_type": "code",
   "execution_count": 35,
   "metadata": {},
   "outputs": [
    {
     "data": {
      "text/plain": [
       "{'fit_time': array([770.07919407, 770.19195819, 776.79214668, 682.73964787,\n",
       "        686.39186573]),\n",
       " 'score_time': array([32.89343357, 33.17568016, 33.05158114, 29.58235645, 28.53417373]),\n",
       " 'test_mae': array([-1034.48450654, -1043.57253619, -1029.34630493, -1029.12026386,\n",
       "        -1017.88925527]),\n",
       " 'test_mape': array([-23.80598382, -24.0634957 , -22.77111046, -23.56785916,\n",
       "        -23.77659676]),\n",
       " 'test_medape': array([-11.75628167, -12.17957835, -12.15127237, -11.92328559,\n",
       "        -12.0310262 ])}"
      ]
     },
     "execution_count": 35,
     "metadata": {},
     "output_type": "execute_result"
    }
   ],
   "source": [
    "metric_val = cross_validate(grad_boosting, X, y, cv=KFold(n_splits=5, shuffle=True), scoring=scoring, n_jobs=3)\n",
    "metric_val"
   ]
  },
  {
   "cell_type": "code",
   "execution_count": 36,
   "metadata": {},
   "outputs": [
    {
     "data": {
      "text/plain": [
       "-1030.882573357257"
      ]
     },
     "execution_count": 36,
     "metadata": {},
     "output_type": "execute_result"
    }
   ],
   "source": [
    "np.mean(metric_val['test_mae'])"
   ]
  },
  {
   "cell_type": "code",
   "execution_count": 37,
   "metadata": {},
   "outputs": [
    {
     "data": {
      "text/plain": [
       "-23.597009179146134"
      ]
     },
     "execution_count": 37,
     "metadata": {},
     "output_type": "execute_result"
    }
   ],
   "source": [
    "np.mean(metric_val['test_mape'])"
   ]
  },
  {
   "cell_type": "code",
   "execution_count": 38,
   "metadata": {},
   "outputs": [
    {
     "data": {
      "text/plain": [
       "-12.008288837579538"
      ]
     },
     "execution_count": 38,
     "metadata": {},
     "output_type": "execute_result"
    }
   ],
   "source": [
    "np.mean(metric_val['test_medape'])"
   ]
  },
  {
   "cell_type": "code",
   "execution_count": 36,
   "metadata": {},
   "outputs": [
    {
     "data": {
      "text/plain": [
       "XGBRegressor(base_score=0.5, booster='gbtree', colsample_bylevel=1,\n",
       "             colsample_bynode=1, colsample_bytree=1, gamma=0, gpu_id=-1,\n",
       "             importance_type='gain', interaction_constraints='',\n",
       "             learning_rate=0.01, max_delta_step=0, max_depth=10,\n",
       "             min_child_weight=1, missing=nan, monotone_constraints='()',\n",
       "             n_estimators=4000, n_jobs=0, num_parallel_tree=1, random_state=0,\n",
       "             reg_alpha=0, reg_lambda=1, scale_pos_weight=1, subsample=1,\n",
       "             tree_method='exact', validate_parameters=1, verbosity=None)"
      ]
     },
     "execution_count": 36,
     "metadata": {},
     "output_type": "execute_result"
    }
   ],
   "source": [
    "grad_boosting.fit(X, y)"
   ]
  },
  {
   "cell_type": "code",
   "execution_count": null,
   "metadata": {},
   "outputs": [],
   "source": [
    "i = np.random.randint(0, X.shape[0])\n",
    "model1.predict(X[i])[0], raw_data.iloc[i]"
   ]
  },
  {
   "cell_type": "markdown",
   "metadata": {},
   "source": [
    "## Случайный лес"
   ]
  },
  {
   "cell_type": "code",
   "execution_count": 39,
   "metadata": {},
   "outputs": [],
   "source": [
    "from sklearn.ensemble import RandomForestRegressor"
   ]
  },
  {
   "cell_type": "code",
   "execution_count": 33,
   "metadata": {},
   "outputs": [],
   "source": [
    "param_grid = {'n_estimators':[50, 100]}\n",
    "searching = GridSearchCV(RandomForestRegressor(), param_grid, cv=KFold(n_splits=5, shuffle=True), n_jobs=3, scoring='neg_mean_absolute_error')"
   ]
  },
  {
   "cell_type": "code",
   "execution_count": 34,
   "metadata": {},
   "outputs": [
    {
     "data": {
      "text/plain": [
       "GridSearchCV(cv=KFold(n_splits=5, random_state=None, shuffle=True),\n",
       "             estimator=RandomForestRegressor(), n_jobs=3,\n",
       "             param_grid={'n_estimators': [50, 100]},\n",
       "             scoring='neg_mean_absolute_error')"
      ]
     },
     "execution_count": 34,
     "metadata": {},
     "output_type": "execute_result"
    }
   ],
   "source": [
    "searching.fit(X, y)"
   ]
  },
  {
   "cell_type": "code",
   "execution_count": 35,
   "metadata": {},
   "outputs": [
    {
     "data": {
      "text/html": [
       "<div>\n",
       "<style scoped>\n",
       "    .dataframe tbody tr th:only-of-type {\n",
       "        vertical-align: middle;\n",
       "    }\n",
       "\n",
       "    .dataframe tbody tr th {\n",
       "        vertical-align: top;\n",
       "    }\n",
       "\n",
       "    .dataframe thead th {\n",
       "        text-align: right;\n",
       "    }\n",
       "</style>\n",
       "<table border=\"1\" class=\"dataframe\">\n",
       "  <thead>\n",
       "    <tr style=\"text-align: right;\">\n",
       "      <th></th>\n",
       "      <th>mean_fit_time</th>\n",
       "      <th>std_fit_time</th>\n",
       "      <th>mean_score_time</th>\n",
       "      <th>std_score_time</th>\n",
       "      <th>param_n_estimators</th>\n",
       "      <th>params</th>\n",
       "      <th>split0_test_score</th>\n",
       "      <th>split1_test_score</th>\n",
       "      <th>split2_test_score</th>\n",
       "      <th>split3_test_score</th>\n",
       "      <th>split4_test_score</th>\n",
       "      <th>mean_test_score</th>\n",
       "      <th>std_test_score</th>\n",
       "      <th>rank_test_score</th>\n",
       "    </tr>\n",
       "  </thead>\n",
       "  <tbody>\n",
       "    <tr>\n",
       "      <th>0</th>\n",
       "      <td>1481.616710</td>\n",
       "      <td>68.061176</td>\n",
       "      <td>3.000767</td>\n",
       "      <td>0.787912</td>\n",
       "      <td>50</td>\n",
       "      <td>{'n_estimators': 50}</td>\n",
       "      <td>-1106.152794</td>\n",
       "      <td>-1052.857673</td>\n",
       "      <td>-1080.512497</td>\n",
       "      <td>-1070.671595</td>\n",
       "      <td>-1066.446131</td>\n",
       "      <td>-1075.328138</td>\n",
       "      <td>17.790628</td>\n",
       "      <td>2</td>\n",
       "    </tr>\n",
       "    <tr>\n",
       "      <th>1</th>\n",
       "      <td>1544.256229</td>\n",
       "      <td>376.317828</td>\n",
       "      <td>6.946574</td>\n",
       "      <td>5.837417</td>\n",
       "      <td>100</td>\n",
       "      <td>{'n_estimators': 100}</td>\n",
       "      <td>-1096.254742</td>\n",
       "      <td>-1043.472833</td>\n",
       "      <td>-1075.203497</td>\n",
       "      <td>-1065.724077</td>\n",
       "      <td>-1071.007561</td>\n",
       "      <td>-1070.332542</td>\n",
       "      <td>16.963633</td>\n",
       "      <td>1</td>\n",
       "    </tr>\n",
       "  </tbody>\n",
       "</table>\n",
       "</div>"
      ],
      "text/plain": [
       "   mean_fit_time  std_fit_time  mean_score_time  std_score_time  \\\n",
       "0    1481.616710     68.061176         3.000767        0.787912   \n",
       "1    1544.256229    376.317828         6.946574        5.837417   \n",
       "\n",
       "  param_n_estimators                 params  split0_test_score  \\\n",
       "0                 50   {'n_estimators': 50}       -1106.152794   \n",
       "1                100  {'n_estimators': 100}       -1096.254742   \n",
       "\n",
       "   split1_test_score  split2_test_score  split3_test_score  split4_test_score  \\\n",
       "0       -1052.857673       -1080.512497       -1070.671595       -1066.446131   \n",
       "1       -1043.472833       -1075.203497       -1065.724077       -1071.007561   \n",
       "\n",
       "   mean_test_score  std_test_score  rank_test_score  \n",
       "0     -1075.328138       17.790628                2  \n",
       "1     -1070.332542       16.963633                1  "
      ]
     },
     "execution_count": 35,
     "metadata": {},
     "output_type": "execute_result"
    }
   ],
   "source": [
    "pd.DataFrame(searching.cv_results_)"
   ]
  },
  {
   "cell_type": "code",
   "execution_count": 36,
   "metadata": {},
   "outputs": [
    {
     "data": {
      "text/plain": [
       "(-1070.3325417497986, {'n_estimators': 100})"
      ]
     },
     "execution_count": 36,
     "metadata": {},
     "output_type": "execute_result"
    }
   ],
   "source": [
    "searching.best_score_, searching.best_params_"
   ]
  },
  {
   "cell_type": "code",
   "execution_count": 40,
   "metadata": {},
   "outputs": [],
   "source": [
    "random_forest = RandomForestRegressor(n_estimators=100)"
   ]
  },
  {
   "cell_type": "code",
   "execution_count": 41,
   "metadata": {},
   "outputs": [
    {
     "name": "stdout",
     "output_type": "stream",
     "text": [
      "Wall time: 32min 57s\n"
     ]
    },
    {
     "data": {
      "text/plain": [
       "{'fit_time': array([1155.01364207, 1163.03739357, 1162.7220571 ,  809.74613714,\n",
       "         809.65489459]),\n",
       " 'score_time': array([2.87531137, 3.27177906, 2.93759561, 0.48792696, 0.45119095]),\n",
       " 'test_mae': array([-1017.28893999, -1084.63133439, -1074.19443381, -1075.3785257 ,\n",
       "        -1081.75355459]),\n",
       " 'test_mape': array([-22.67189048, -23.65185155, -23.4585189 , -23.06910757,\n",
       "        -24.24009346]),\n",
       " 'test_medape': array([-11.85173913, -12.32515337, -12.07244444, -11.9683871 ,\n",
       "        -12.13169492])}"
      ]
     },
     "execution_count": 41,
     "metadata": {},
     "output_type": "execute_result"
    }
   ],
   "source": [
    "%%time\n",
    "metric_val = cross_validate(random_forest, X, y, cv=KFold(n_splits=5, shuffle=True), scoring=scoring, n_jobs=3)\n",
    "metric_val"
   ]
  },
  {
   "cell_type": "code",
   "execution_count": 42,
   "metadata": {},
   "outputs": [
    {
     "data": {
      "text/plain": [
       "-1066.6493576962087"
      ]
     },
     "execution_count": 42,
     "metadata": {},
     "output_type": "execute_result"
    }
   ],
   "source": [
    "np.mean(metric_val['test_mae'])"
   ]
  },
  {
   "cell_type": "code",
   "execution_count": 43,
   "metadata": {},
   "outputs": [
    {
     "data": {
      "text/plain": [
       "-23.41829239375444"
      ]
     },
     "execution_count": 43,
     "metadata": {},
     "output_type": "execute_result"
    }
   ],
   "source": [
    "np.mean(metric_val['test_mape'])"
   ]
  },
  {
   "cell_type": "code",
   "execution_count": 44,
   "metadata": {},
   "outputs": [
    {
     "data": {
      "text/plain": [
       "-12.069883792228163"
      ]
     },
     "execution_count": 44,
     "metadata": {},
     "output_type": "execute_result"
    }
   ],
   "source": [
    "np.mean(metric_val['test_medape'])"
   ]
  },
  {
   "cell_type": "code",
   "execution_count": 42,
   "metadata": {},
   "outputs": [
    {
     "data": {
      "text/plain": [
       "RandomForestRegressor()"
      ]
     },
     "execution_count": 42,
     "metadata": {},
     "output_type": "execute_result"
    }
   ],
   "source": [
    "random_forest.fit(X, y)"
   ]
  },
  {
   "cell_type": "markdown",
   "metadata": {},
   "source": [
    "## Гребневая регрессия"
   ]
  },
  {
   "cell_type": "code",
   "execution_count": 37,
   "metadata": {},
   "outputs": [],
   "source": [
    "from sklearn.linear_model import Ridge\n",
    "\n",
    "scaler = StandardScaler()\n",
    "scaled_X = scaler.fit_transform(X.toarray())"
   ]
  },
  {
   "cell_type": "code",
   "execution_count": 38,
   "metadata": {},
   "outputs": [
    {
     "data": {
      "text/plain": [
       "array([[-0.04194664, -0.06363134, -0.00598722, ..., -0.55170736,\n",
       "        -0.50160695, -0.80424426],\n",
       "       [-0.04194664, -0.06363134, -0.00598722, ..., -0.67486845,\n",
       "        -0.83294871, -1.08101921],\n",
       "       [-0.04194664, -0.06363134, -0.00598722, ..., -0.67486845,\n",
       "        -1.298405  , -0.80424426],\n",
       "       ...,\n",
       "       [-0.04194664, -0.06363134, -0.00598722, ...,  0.80306458,\n",
       "         1.01309823,  0.02608059],\n",
       "       [-0.04194664, -0.06363134, -0.00598722, ...,  0.80306458,\n",
       "         0.98154187, -0.11230689],\n",
       "       [-0.04194664, -0.06363134, -0.00598722, ...,  0.92622567,\n",
       "        -1.77961579, -0.11230689]])"
      ]
     },
     "execution_count": 38,
     "metadata": {},
     "output_type": "execute_result"
    }
   ],
   "source": [
    "scaled_X"
   ]
  },
  {
   "cell_type": "code",
   "execution_count": 39,
   "metadata": {},
   "outputs": [],
   "source": [
    "from scipy import sparse\n",
    "scaled_X = sparse.csr_matrix(scaled_X)"
   ]
  },
  {
   "cell_type": "code",
   "execution_count": 40,
   "metadata": {},
   "outputs": [],
   "source": [
    "param_grid = {'alpha':[1.0, 0.0]}\n",
    "searching = GridSearchCV(Ridge(), param_grid, cv=KFold(n_splits=5, shuffle=True), n_jobs=3, scoring='neg_mean_absolute_error')"
   ]
  },
  {
   "cell_type": "code",
   "execution_count": 41,
   "metadata": {},
   "outputs": [
    {
     "data": {
      "text/plain": [
       "GridSearchCV(cv=KFold(n_splits=5, random_state=None, shuffle=True),\n",
       "             estimator=Ridge(), n_jobs=3, param_grid={'alpha': [1.0, 0.0]},\n",
       "             scoring='neg_mean_absolute_error')"
      ]
     },
     "execution_count": 41,
     "metadata": {},
     "output_type": "execute_result"
    }
   ],
   "source": [
    "searching.fit(scaled_X, y)"
   ]
  },
  {
   "cell_type": "code",
   "execution_count": 42,
   "metadata": {},
   "outputs": [
    {
     "data": {
      "text/html": [
       "<div>\n",
       "<style scoped>\n",
       "    .dataframe tbody tr th:only-of-type {\n",
       "        vertical-align: middle;\n",
       "    }\n",
       "\n",
       "    .dataframe tbody tr th {\n",
       "        vertical-align: top;\n",
       "    }\n",
       "\n",
       "    .dataframe thead th {\n",
       "        text-align: right;\n",
       "    }\n",
       "</style>\n",
       "<table border=\"1\" class=\"dataframe\">\n",
       "  <thead>\n",
       "    <tr style=\"text-align: right;\">\n",
       "      <th></th>\n",
       "      <th>mean_fit_time</th>\n",
       "      <th>std_fit_time</th>\n",
       "      <th>mean_score_time</th>\n",
       "      <th>std_score_time</th>\n",
       "      <th>param_alpha</th>\n",
       "      <th>params</th>\n",
       "      <th>split0_test_score</th>\n",
       "      <th>split1_test_score</th>\n",
       "      <th>split2_test_score</th>\n",
       "      <th>split3_test_score</th>\n",
       "      <th>split4_test_score</th>\n",
       "      <th>mean_test_score</th>\n",
       "      <th>std_test_score</th>\n",
       "      <th>rank_test_score</th>\n",
       "    </tr>\n",
       "  </thead>\n",
       "  <tbody>\n",
       "    <tr>\n",
       "      <th>0</th>\n",
       "      <td>103.287738</td>\n",
       "      <td>45.516939</td>\n",
       "      <td>2.254033</td>\n",
       "      <td>0.44932</td>\n",
       "      <td>1</td>\n",
       "      <td>{'alpha': 1.0}</td>\n",
       "      <td>-2062.962271</td>\n",
       "      <td>-2157.727501</td>\n",
       "      <td>-2072.108685</td>\n",
       "      <td>-2118.526505</td>\n",
       "      <td>-2043.286405</td>\n",
       "      <td>-2090.922273</td>\n",
       "      <td>41.544725</td>\n",
       "      <td>1</td>\n",
       "    </tr>\n",
       "    <tr>\n",
       "      <th>1</th>\n",
       "      <td>77.378023</td>\n",
       "      <td>14.448365</td>\n",
       "      <td>2.556081</td>\n",
       "      <td>0.73286</td>\n",
       "      <td>0</td>\n",
       "      <td>{'alpha': 0.0}</td>\n",
       "      <td>-2062.869135</td>\n",
       "      <td>-2157.925302</td>\n",
       "      <td>-2072.188336</td>\n",
       "      <td>-2119.037800</td>\n",
       "      <td>-2043.665985</td>\n",
       "      <td>-2091.137311</td>\n",
       "      <td>41.595080</td>\n",
       "      <td>2</td>\n",
       "    </tr>\n",
       "  </tbody>\n",
       "</table>\n",
       "</div>"
      ],
      "text/plain": [
       "   mean_fit_time  std_fit_time  mean_score_time  std_score_time param_alpha  \\\n",
       "0     103.287738     45.516939         2.254033         0.44932           1   \n",
       "1      77.378023     14.448365         2.556081         0.73286           0   \n",
       "\n",
       "           params  split0_test_score  split1_test_score  split2_test_score  \\\n",
       "0  {'alpha': 1.0}       -2062.962271       -2157.727501       -2072.108685   \n",
       "1  {'alpha': 0.0}       -2062.869135       -2157.925302       -2072.188336   \n",
       "\n",
       "   split3_test_score  split4_test_score  mean_test_score  std_test_score  \\\n",
       "0       -2118.526505       -2043.286405     -2090.922273       41.544725   \n",
       "1       -2119.037800       -2043.665985     -2091.137311       41.595080   \n",
       "\n",
       "   rank_test_score  \n",
       "0                1  \n",
       "1                2  "
      ]
     },
     "execution_count": 42,
     "metadata": {},
     "output_type": "execute_result"
    }
   ],
   "source": [
    "pd.DataFrame(searching.cv_results_)"
   ]
  },
  {
   "cell_type": "code",
   "execution_count": 43,
   "metadata": {},
   "outputs": [
    {
     "data": {
      "text/plain": [
       "(-2090.9222734032737, {'alpha': 1.0})"
      ]
     },
     "execution_count": 43,
     "metadata": {},
     "output_type": "execute_result"
    }
   ],
   "source": [
    "searching.best_score_, searching.best_params_"
   ]
  },
  {
   "cell_type": "code",
   "execution_count": null,
   "metadata": {},
   "outputs": [],
   "source": [
    "linear_model = Ridge()"
   ]
  },
  {
   "cell_type": "code",
   "execution_count": null,
   "metadata": {},
   "outputs": [],
   "source": [
    "cross_val_score(linear_model, scaled_X, y, cv=KFold(n_splits=5, shuffle=True), scoring='neg_mean_absolute_error', n_jobs=-1)"
   ]
  },
  {
   "cell_type": "code",
   "execution_count": null,
   "metadata": {},
   "outputs": [],
   "source": [
    "cross_val_score(linear_model, scaled_X, y, cv=KFold(n_splits=5, shuffle=True), scoring=mape, n_jobs=-1)"
   ]
  },
  {
   "cell_type": "markdown",
   "metadata": {},
   "source": [
    "## Нейронная сеть"
   ]
  },
  {
   "cell_type": "code",
   "execution_count": 45,
   "metadata": {},
   "outputs": [
    {
     "data": {
      "text/plain": [
       "device(type='cuda', index=0)"
      ]
     },
     "execution_count": 45,
     "metadata": {},
     "output_type": "execute_result"
    }
   ],
   "source": [
    "import torch\n",
    "from tqdm.notebook import tqdm\n",
    "import matplotlib.pyplot as plt\n",
    "\n",
    "device = torch.device('cuda:0' if torch.cuda.is_available() else 'cpu')\n",
    "device"
   ]
  },
  {
   "cell_type": "code",
   "execution_count": 46,
   "metadata": {},
   "outputs": [],
   "source": [
    "def torch_mape(pred, target):\n",
    "    return ((pred - target) / target).abs().mean() * 100\n",
    "def torch_medape(pred, target):\n",
    "    return ((pred - target) / target).abs().median() * 100"
   ]
  },
  {
   "cell_type": "code",
   "execution_count": 47,
   "metadata": {},
   "outputs": [],
   "source": [
    "X_train, X_val, y_train, y_val = train_test_split(X, y, test_size=0.2)"
   ]
  },
  {
   "cell_type": "code",
   "execution_count": 48,
   "metadata": {},
   "outputs": [
    {
     "data": {
      "text/plain": [
       "array([ 6500.,  5200., 10499., ...,  4950.,  4000.,  4800.])"
      ]
     },
     "execution_count": 48,
     "metadata": {},
     "output_type": "execute_result"
    }
   ],
   "source": [
    "scaler = MinMaxScaler()\n",
    "scaled_X_train = scaler.fit_transform(X_train.toarray())\n",
    "scaled_X_val = scaler.transform(X_val.toarray())\n",
    "scaled_X_train, y_train = np.array(scaled_X_train), np.array(y_train)\n",
    "scaled_X_val, y_val = np.array(scaled_X_val), np.array(y_val)\n",
    "y_train, y_val = y_train.astype(float), y_val.astype(float)\n",
    "y_train"
   ]
  },
  {
   "cell_type": "code",
   "execution_count": 49,
   "metadata": {},
   "outputs": [],
   "source": [
    "class RegressionDataset(torch.utils.data.Dataset):\n",
    "    def __init__(self, X_data, y_data, device):\n",
    "        self.X_data = X_data.to(device)\n",
    "        self.y_data = y_data.to(device)\n",
    "        \n",
    "    def __getitem__(self, index):\n",
    "        return self.X_data[index], self.y_data[index]\n",
    "        \n",
    "    def __len__ (self):\n",
    "        return len(self.X_data)"
   ]
  },
  {
   "cell_type": "code",
   "execution_count": 50,
   "metadata": {},
   "outputs": [],
   "source": [
    "train_dataset = RegressionDataset(torch.from_numpy(scaled_X_train).float(), torch.from_numpy(y_train).float(), device)\n",
    "val_dataset = RegressionDataset(torch.from_numpy(scaled_X_val).float(), torch.from_numpy(y_val).float(), device)"
   ]
  },
  {
   "cell_type": "code",
   "execution_count": 51,
   "metadata": {},
   "outputs": [],
   "source": [
    "class RegressionNet(torch.nn.Module):\n",
    "    def __init__(self, num_features):\n",
    "        super(RegressionNet, self).__init__()\n",
    "        self.fc1 = torch.nn.Linear(num_features, 500)\n",
    "        self.act1 = torch.nn.ReLU()\n",
    "        self.fc2 = torch.nn.Linear(500, 1)\n",
    "        self.act2 = torch.nn.ReLU()\n",
    "    \n",
    "    def forward(self, x):\n",
    "        x = self.fc1(x)\n",
    "        x = self.act1(x)\n",
    "        x = self.fc2(x)\n",
    "        x = self.act2(x)\n",
    "        return x"
   ]
  },
  {
   "cell_type": "code",
   "execution_count": 52,
   "metadata": {},
   "outputs": [],
   "source": [
    "EPOCHS = 50\n",
    "BATCH_SIZE = 64\n",
    "LEARNING_RATE = 0.01\n",
    "NUM_FEATURES = X_train.shape[1]"
   ]
  },
  {
   "cell_type": "code",
   "execution_count": 53,
   "metadata": {},
   "outputs": [],
   "source": [
    "train_loader = torch.utils.data.DataLoader(dataset=train_dataset, batch_size=BATCH_SIZE, shuffle=True)\n",
    "val_loader = torch.utils.data.DataLoader(dataset=val_dataset, batch_size=1)"
   ]
  },
  {
   "cell_type": "code",
   "execution_count": 54,
   "metadata": {},
   "outputs": [],
   "source": [
    "neural_network = RegressionNet(NUM_FEATURES)\n",
    "neural_network.to(device)\n",
    "criterion = torch.nn.MSELoss()\n",
    "optimizer = torch.optim.Adam(neural_network.parameters(), lr=LEARNING_RATE)\n",
    "mae = torch.nn.L1Loss()"
   ]
  },
  {
   "cell_type": "code",
   "execution_count": 55,
   "metadata": {},
   "outputs": [],
   "source": [
    "loss_stats = {'Обучение': [], 'Валидация': []}"
   ]
  },
  {
   "cell_type": "code",
   "execution_count": 56,
   "metadata": {},
   "outputs": [
    {
     "data": {
      "application/vnd.jupyter.widget-view+json": {
       "model_id": "006a87b8244149a0ae670a7f8539d97f",
       "version_major": 2,
       "version_minor": 0
      },
      "text/plain": [
       "HBox(children=(HTML(value=''), FloatProgress(value=0.0, max=50.0), HTML(value='')))"
      ]
     },
     "metadata": {},
     "output_type": "display_data"
    },
    {
     "name": "stdout",
     "output_type": "stream",
     "text": [
      "Epoch 001: | Train Loss: 57395289.18553 | Val Loss: 36395763.92539 | Val MAE: 3277.45351\n",
      "Epoch 002: | Train Loss: 35523825.59599 | Val Loss: 29150724.53887 | Val MAE: 2722.24832\n",
      "Epoch 003: | Train Loss: 28859791.30552 | Val Loss: 23582220.06590 | Val MAE: 2327.24374\n",
      "Epoch 004: | Train Loss: 23804677.83847 | Val Loss: 19778335.27575 | Val MAE: 2087.60524\n",
      "Epoch 005: | Train Loss: 20038496.02364 | Val Loss: 16738157.98077 | Val MAE: 1796.98610\n",
      "Epoch 006: | Train Loss: 17060440.89237 | Val Loss: 14500269.59239 | Val MAE: 1625.09911\n",
      "Epoch 007: | Train Loss: 14742888.56572 | Val Loss: 12798144.56987 | Val MAE: 1499.83721\n",
      "Epoch 008: | Train Loss: 12837723.23872 | Val Loss: 11462299.19496 | Val MAE: 1376.94561\n",
      "Epoch 009: | Train Loss: 11333279.50278 | Val Loss: 10518370.96884 | Val MAE: 1294.61272\n",
      "Epoch 010: | Train Loss: 10129109.99606 | Val Loss: 9831486.27550 | Val MAE: 1230.39793\n",
      "Epoch 011: | Train Loss: 9141201.05534 | Val Loss: 9295669.94887 | Val MAE: 1198.81636\n",
      "Epoch 012: | Train Loss: 8319020.54665 | Val Loss: 8893359.63454 | Val MAE: 1143.83536\n",
      "Epoch 013: | Train Loss: 7620168.56143 | Val Loss: 8634263.70662 | Val MAE: 1122.46972\n",
      "Epoch 014: | Train Loss: 7028366.78716 | Val Loss: 8218945.99154 | Val MAE: 1123.36038\n",
      "Epoch 015: | Train Loss: 6549430.81389 | Val Loss: 8042212.82992 | Val MAE: 1096.16449\n",
      "Epoch 016: | Train Loss: 6108612.19672 | Val Loss: 7734826.02898 | Val MAE: 1092.71786\n",
      "Epoch 017: | Train Loss: 5752418.79146 | Val Loss: 7610327.98648 | Val MAE: 1089.79444\n",
      "Epoch 018: | Train Loss: 5451611.48155 | Val Loss: 7425564.53020 | Val MAE: 1067.25046\n",
      "Epoch 019: | Train Loss: 5239983.20729 | Val Loss: 7294632.38373 | Val MAE: 1061.62419\n",
      "Epoch 020: | Train Loss: 4979933.44923 | Val Loss: 7261668.42044 | Val MAE: 1060.74416\n",
      "Epoch 021: | Train Loss: 4804071.63091 | Val Loss: 7131091.20687 | Val MAE: 1048.28965\n",
      "Epoch 022: | Train Loss: 4647230.48057 | Val Loss: 6992170.69841 | Val MAE: 1044.40572\n",
      "Epoch 023: | Train Loss: 4525403.67676 | Val Loss: 6949297.55566 | Val MAE: 1036.97680\n",
      "Epoch 024: | Train Loss: 4413225.82002 | Val Loss: 6958847.11998 | Val MAE: 1045.65483\n",
      "Epoch 025: | Train Loss: 4345388.78438 | Val Loss: 6818619.23345 | Val MAE: 1029.97616\n",
      "Epoch 026: | Train Loss: 4230549.82530 | Val Loss: 6802573.31325 | Val MAE: 1035.99930\n",
      "Epoch 027: | Train Loss: 4129052.98402 | Val Loss: 6726810.62888 | Val MAE: 1026.24404\n",
      "Epoch 028: | Train Loss: 4082265.94726 | Val Loss: 6668015.29150 | Val MAE: 1022.89385\n",
      "Epoch 029: | Train Loss: 3978340.47376 | Val Loss: 6640601.46539 | Val MAE: 1013.09933\n",
      "Epoch 030: | Train Loss: 3915417.26464 | Val Loss: 6687527.32627 | Val MAE: 1010.94840\n",
      "Epoch 031: | Train Loss: 3870260.43499 | Val Loss: 6630658.48544 | Val MAE: 1023.11970\n",
      "Epoch 032: | Train Loss: 3807843.66731 | Val Loss: 6488589.19579 | Val MAE: 1004.29360\n",
      "Epoch 033: | Train Loss: 3729190.32324 | Val Loss: 6555992.84641 | Val MAE: 1007.36700\n",
      "Epoch 034: | Train Loss: 3706766.16279 | Val Loss: 6480606.82111 | Val MAE: 994.75440\n",
      "Epoch 035: | Train Loss: 3617960.87191 | Val Loss: 6391603.34689 | Val MAE: 1002.37868\n",
      "Epoch 036: | Train Loss: 3588630.14264 | Val Loss: 6461476.84751 | Val MAE: 998.37407\n",
      "Epoch 037: | Train Loss: 3542878.58838 | Val Loss: 6422066.26063 | Val MAE: 1004.10826\n",
      "Epoch 038: | Train Loss: 3507673.05095 | Val Loss: 6403586.61092 | Val MAE: 993.68990\n",
      "Epoch 039: | Train Loss: 3444391.62975 | Val Loss: 6438053.24647 | Val MAE: 1009.53987\n",
      "Epoch 040: | Train Loss: 3434043.91006 | Val Loss: 6429864.89792 | Val MAE: 1010.63765\n",
      "Epoch 041: | Train Loss: 3377141.40997 | Val Loss: 6319897.73508 | Val MAE: 991.33686\n",
      "Epoch 042: | Train Loss: 3340997.35512 | Val Loss: 6298671.39949 | Val MAE: 980.47546\n",
      "Epoch 043: | Train Loss: 3296980.26719 | Val Loss: 6332923.84606 | Val MAE: 993.60848\n",
      "Epoch 044: | Train Loss: 3278150.45093 | Val Loss: 6321486.88433 | Val MAE: 1006.61576\n",
      "Epoch 045: | Train Loss: 3242285.24884 | Val Loss: 6253890.77941 | Val MAE: 981.86795\n",
      "Epoch 046: | Train Loss: 3211697.54674 | Val Loss: 6245344.38637 | Val MAE: 984.35068\n",
      "Epoch 047: | Train Loss: 3189058.05937 | Val Loss: 6310153.51604 | Val MAE: 1004.02950\n",
      "Epoch 048: | Train Loss: 3142198.64913 | Val Loss: 6248451.65001 | Val MAE: 981.75483\n",
      "Epoch 049: | Train Loss: 3118854.06304 | Val Loss: 6287819.46195 | Val MAE: 996.84793\n",
      "Epoch 050: | Train Loss: 3086009.80928 | Val Loss: 6304212.27429 | Val MAE: 1000.35326\n",
      "\n"
     ]
    }
   ],
   "source": [
    "for e in tqdm(range(1, EPOCHS+1)):\n",
    "    train_epoch_loss = 0\n",
    "    neural_network.train()\n",
    "    for X_train_batch, y_train_batch in train_loader:\n",
    "        optimizer.zero_grad()\n",
    "        y_train_pred = neural_network(X_train_batch)\n",
    "        train_loss = criterion(y_train_pred, y_train_batch.unsqueeze(1))\n",
    "        train_loss.backward()\n",
    "        optimizer.step()\n",
    "        train_epoch_loss += train_loss.item()\n",
    "            \n",
    "    with torch.no_grad():\n",
    "        val_epoch_loss = 0\n",
    "        val_mae = 0\n",
    "        neural_network.eval()\n",
    "        for X_val_batch, y_val_batch in val_loader:\n",
    "            y_val_pred = neural_network(X_val_batch)          \n",
    "            val_loss = criterion(y_val_pred, y_val_batch.unsqueeze(1))\n",
    "            val_epoch_loss += val_loss.item()\n",
    "            val_mae += mae(y_val_pred, y_val_batch.unsqueeze(1)).item()\n",
    "            \n",
    "    loss_stats['Обучение'].append(train_epoch_loss/len(train_loader))\n",
    "    loss_stats['Валидация'].append(val_epoch_loss/len(val_loader))                              \n",
    "    \n",
    "    print('Epoch {:03}: | Train Loss: {:.5f} | Val Loss: {:.5f} | Val MAE: {:.5f}'.format(e, train_epoch_loss/len(train_loader),\n",
    "                                                                                          val_epoch_loss/len(val_loader), \n",
    "                                                                                          val_mae/len(val_loader)))"
   ]
  },
  {
   "cell_type": "code",
   "execution_count": 66,
   "metadata": {},
   "outputs": [
    {
     "data": {
      "image/png": "[encoded data removed]",
      "text/plain": [
       "<Figure size 1080x576 with 1 Axes>"
      ]
     },
     "metadata": {
      "needs_background": "light"
     },
     "output_type": "display_data"
    }
   ],
   "source": [
    "import seaborn as sns\n",
    "train_val_loss_df = pd.DataFrame.from_dict(loss_stats).reset_index().melt(id_vars=['index']).rename(columns={\"index\":\"Эпоха\", \"value\": \"MSE\", \"variable\": \"\"})\n",
    "plt.figure(figsize=(15,8))\n",
    "plot = sns.lineplot(data=train_val_loss_df, x=\"Эпоха\", y=\"MSE\", hue=\"\")"
   ]
  },
  {
   "cell_type": "code",
   "execution_count": 68,
   "metadata": {},
   "outputs": [
    {
     "data": {
      "text/plain": [
       "(tensor(22.1535, device='cuda:0', grad_fn=<MulBackward0>),\n",
       " tensor(11.6072, device='cuda:0', grad_fn=<MulBackward0>),\n",
       " tensor(1000.3533, device='cuda:0', grad_fn=<L1LossBackward>))"
      ]
     },
     "execution_count": 68,
     "metadata": {},
     "output_type": "execute_result"
    }
   ],
   "source": [
    "torch_scaled_X_val = torch.from_numpy(scaled_X_val).float().to(device)\n",
    "torch_y_val = torch.from_numpy(y_val).float().to(device)\n",
    "mape_val = torch_mape(neural_network.forward(torch_scaled_X_val), torch_y_val.unsqueeze(1))\n",
    "medape_val = torch_medape(neural_network.forward(torch_scaled_X_val), torch_y_val.unsqueeze(1))\n",
    "mae_val = mae(neural_network.forward(torch_scaled_X_val), torch_y_val.unsqueeze(1))\n",
    "mape_val, medape_val, mae_val"
   ]
  },
  {
   "cell_type": "code",
   "execution_count": 37,
   "metadata": {},
   "outputs": [
    {
     "data": {
      "application/vnd.jupyter.widget-view+json": {
       "model_id": "2fe5e1e3c62b4205908e86f924daa100",
       "version_major": 2,
       "version_minor": 0
      },
      "text/plain": [
       "HBox(children=(HTML(value=''), FloatProgress(value=0.0, max=50.0), HTML(value='')))"
      ]
     },
     "metadata": {},
     "output_type": "display_data"
    },
    {
     "name": "stdout",
     "output_type": "stream",
     "text": [
      "Epoch 001: | Train Loss: 52728202.17603 | Train MAE: 3917.57961\n",
      "Epoch 002: | Train Loss: 32022945.61296 | Train MAE: 2745.71093\n",
      "Epoch 003: | Train Loss: 24752325.30103 | Train MAE: 2255.87140\n",
      "Epoch 004: | Train Loss: 19891416.58816 | Train MAE: 1942.67941\n",
      "Epoch 005: | Train Loss: 16354309.79917 | Train MAE: 1701.84380\n",
      "Epoch 006: | Train Loss: 13696251.25258 | Train MAE: 1503.64008\n",
      "Epoch 007: | Train Loss: 11720007.32683 | Train MAE: 1360.51704\n",
      "Epoch 008: | Train Loss: 10243977.19273 | Train MAE: 1251.56323\n",
      "Epoch 009: | Train Loss: 9126360.79623 | Train MAE: 1181.85744\n",
      "Epoch 010: | Train Loss: 8264340.67997 | Train MAE: 1132.46229\n",
      "Epoch 011: | Train Loss: 7525538.76054 | Train MAE: 1097.20505\n",
      "Epoch 012: | Train Loss: 6924896.03025 | Train MAE: 1071.37998\n",
      "Epoch 013: | Train Loss: 6453340.86511 | Train MAE: 1050.65860\n",
      "Epoch 014: | Train Loss: 6042328.62357 | Train MAE: 1031.93354\n",
      "Epoch 015: | Train Loss: 5733606.71061 | Train MAE: 1017.93676\n",
      "Epoch 016: | Train Loss: 5459035.18338 | Train MAE: 1005.56149\n",
      "Epoch 017: | Train Loss: 5241255.83687 | Train MAE: 996.56768\n",
      "Epoch 018: | Train Loss: 5045492.96502 | Train MAE: 986.07340\n",
      "Epoch 019: | Train Loss: 4894507.95922 | Train MAE: 972.53135\n",
      "Epoch 020: | Train Loss: 4732470.00308 | Train MAE: 966.91351\n",
      "Epoch 021: | Train Loss: 4628539.61246 | Train MAE: 958.28147\n",
      "Epoch 022: | Train Loss: 4546109.70054 | Train MAE: 955.87175\n",
      "Epoch 023: | Train Loss: 4421943.28745 | Train MAE: 944.44801\n",
      "Epoch 024: | Train Loss: 4354099.44112 | Train MAE: 941.55249\n",
      "Epoch 025: | Train Loss: 4262722.20986 | Train MAE: 936.33249\n",
      "Epoch 026: | Train Loss: 4203006.00215 | Train MAE: 927.64069\n",
      "Epoch 027: | Train Loss: 4134794.46954 | Train MAE: 925.53557\n",
      "Epoch 028: | Train Loss: 4104958.58508 | Train MAE: 921.44364\n",
      "Epoch 029: | Train Loss: 4007567.37052 | Train MAE: 919.54909\n",
      "Epoch 030: | Train Loss: 3980629.06472 | Train MAE: 912.92968\n",
      "Epoch 031: | Train Loss: 3922431.51140 | Train MAE: 910.50790\n",
      "Epoch 032: | Train Loss: 3869167.14364 | Train MAE: 903.55727\n",
      "Epoch 033: | Train Loss: 3850347.05884 | Train MAE: 903.25727\n",
      "Epoch 034: | Train Loss: 3788980.85515 | Train MAE: 900.43474\n",
      "Epoch 035: | Train Loss: 3738648.41439 | Train MAE: 897.58253\n",
      "Epoch 036: | Train Loss: 3713400.99925 | Train MAE: 890.99199\n",
      "Epoch 037: | Train Loss: 3691537.68951 | Train MAE: 895.61960\n",
      "Epoch 038: | Train Loss: 3632775.94001 | Train MAE: 891.41011\n",
      "Epoch 039: | Train Loss: 3634523.24566 | Train MAE: 888.23260\n",
      "Epoch 040: | Train Loss: 3578677.41750 | Train MAE: 885.36259\n",
      "Epoch 041: | Train Loss: 3560671.01856 | Train MAE: 882.48883\n",
      "Epoch 042: | Train Loss: 3529802.54845 | Train MAE: 881.63228\n",
      "Epoch 043: | Train Loss: 3515644.07981 | Train MAE: 879.71806\n",
      "Epoch 044: | Train Loss: 3472330.54759 | Train MAE: 875.80468\n",
      "Epoch 045: | Train Loss: 3451364.33096 | Train MAE: 875.04583\n",
      "Epoch 046: | Train Loss: 3430842.17489 | Train MAE: 872.82394\n",
      "Epoch 047: | Train Loss: 3392698.53283 | Train MAE: 867.44794\n",
      "Epoch 048: | Train Loss: 3401846.57357 | Train MAE: 867.46169\n",
      "Epoch 049: | Train Loss: 3361390.95205 | Train MAE: 865.10226\n",
      "Epoch 050: | Train Loss: 3333801.65965 | Train MAE: 864.04649\n",
      "\n"
     ]
    }
   ],
   "source": [
    "# Финальная версия\n",
    "min_max_scaler = MinMaxScaler()\n",
    "scaled_X = min_max_scaler.fit_transform(X.toarray())\n",
    "scaled_X, y = np.array(scaled_X), np.array(y)\n",
    "y = y.astype(float)\n",
    "\n",
    "EPOCHS = 50\n",
    "BATCH_SIZE = 64\n",
    "LEARNING_RATE = 0.01\n",
    "NUM_FEATURES = scaled_X.shape[1]\n",
    "\n",
    "train_dataset = RegressionDataset(torch.from_numpy(scaled_X).float(), torch.from_numpy(y).float(), device)\n",
    "train_loader = torch.utils.data.DataLoader(dataset=train_dataset, batch_size=BATCH_SIZE, shuffle=True)\n",
    "\n",
    "neural_network = RegressionNet(NUM_FEATURES)\n",
    "neural_network.to(device)\n",
    "criterion = torch.nn.MSELoss()\n",
    "optimizer = torch.optim.Adam(neural_network.parameters(), lr=LEARNING_RATE)\n",
    "mae = torch.nn.L1Loss()\n",
    "\n",
    "for e in tqdm(range(1, EPOCHS+1)):\n",
    "    train_epoch_loss = 0\n",
    "    train_mae = 0\n",
    "    neural_network.train()\n",
    "    for X_train_batch, y_train_batch in train_loader:\n",
    "        optimizer.zero_grad()\n",
    "        y_train_pred = neural_network(X_train_batch)\n",
    "        train_loss = criterion(y_train_pred, y_train_batch.unsqueeze(1))\n",
    "        train_loss.backward()\n",
    "        optimizer.step()\n",
    "        train_epoch_loss += train_loss.item()\n",
    "        train_mae += mae(y_train_pred, y_train_batch.unsqueeze(1)).item()\n",
    "    \n",
    "    print('Epoch {:03}: | Train Loss: {:.5f} | Train MAE: {:.5f}'.format(e, train_epoch_loss/len(train_loader), \n",
    "                                                                         train_mae/len(train_loader)))"
   ]
  },
  {
   "cell_type": "markdown",
   "metadata": {},
   "source": [
    "# Сохранение моделей и категориальных признаков"
   ]
  },
  {
   "cell_type": "code",
   "execution_count": 40,
   "metadata": {},
   "outputs": [
    {
     "data": {
      "text/plain": [
       "array(['front-wheel drive', nan, 'rear drive', 'all-wheel drive',\n",
       "       'part-time four-wheel drive'], dtype=object)"
      ]
     },
     "execution_count": 40,
     "metadata": {},
     "output_type": "execute_result"
    }
   ],
   "source": [
    "data.drive_unit.unique()"
   ]
  },
  {
   "cell_type": "code",
   "execution_count": 42,
   "metadata": {},
   "outputs": [
    {
     "data": {
      "text/plain": [
       "array(['petrol', 'diesel', 'electrocar'], dtype=object)"
      ]
     },
     "execution_count": 42,
     "metadata": {},
     "output_type": "execute_result"
    }
   ],
   "source": [
    "data.fuel_type.unique()"
   ]
  },
  {
   "cell_type": "code",
   "execution_count": 46,
   "metadata": {},
   "outputs": [
    {
     "data": {
      "text/plain": [
       "array(['with mileage', 'with damage', 'for parts'], dtype=object)"
      ]
     },
     "execution_count": 46,
     "metadata": {},
     "output_type": "execute_result"
    }
   ],
   "source": [
    "data.condition.unique()"
   ]
  },
  {
   "cell_type": "code",
   "execution_count": 48,
   "metadata": {},
   "outputs": [
    {
     "data": {
      "text/plain": [
       "array(['burgundy', 'black', 'silver', 'white', 'gray', 'blue', 'other',\n",
       "       'purple', 'red', 'green', 'brown', 'yellow', 'orange'],\n",
       "      dtype=object)"
      ]
     },
     "execution_count": 48,
     "metadata": {},
     "output_type": "execute_result"
    }
   ],
   "source": [
    "data.color.unique()"
   ]
  },
  {
   "cell_type": "code",
   "execution_count": 50,
   "metadata": {},
   "outputs": [
    {
     "data": {
      "text/plain": [
       "array(['mechanics', 'auto'], dtype=object)"
      ]
     },
     "execution_count": 50,
     "metadata": {},
     "output_type": "execute_result"
    }
   ],
   "source": [
    "data.transmission.unique()"
   ]
  },
  {
   "cell_type": "code",
   "execution_count": 53,
   "metadata": {},
   "outputs": [],
   "source": [
    "import json"
   ]
  },
  {
   "cell_type": "code",
   "execution_count": 63,
   "metadata": {},
   "outputs": [],
   "source": [
    "cat_features = {'make': raw_data['make'].unique().tolist(), 'model': raw_data['model'].unique().tolist(), 'segment': raw_data['segment'].unique().tolist()}"
   ]
  },
  {
   "cell_type": "code",
   "execution_count": 64,
   "metadata": {},
   "outputs": [],
   "source": [
    "with open('./models_features/categorial_features.json', 'w') as f:\n",
    "    json.dump(cat_features, f)"
   ]
  },
  {
   "cell_type": "code",
   "execution_count": 3,
   "metadata": {},
   "outputs": [],
   "source": [
    "import joblib"
   ]
  },
  {
   "cell_type": "code",
   "execution_count": 33,
   "metadata": {},
   "outputs": [],
   "source": [
    "grad_boosting.save_model('./models_features/grad_boosting.model')\n",
    "joblib.dump(random_forest, './models_features/random_forest.joblib')\n",
    "joblib.dump(ct, './models_features/column_transformer.joblib')\n",
    "joblib.dump(min_max_scaler, './models_features/min_max_scaler.joblib')"
   ]
  },
  {
   "cell_type": "code",
   "execution_count": 38,
   "metadata": {},
   "outputs": [],
   "source": [
    "torch.save(neural_network.state_dict(), './models_features/neural_network.pt')"
   ]
  },
  {
   "cell_type": "markdown",
   "metadata": {},
   "source": [
    "# Проверка"
   ]
  },
  {
   "cell_type": "code",
   "execution_count": 9,
   "metadata": {},
   "outputs": [],
   "source": [
    "import joblib\n",
    "ct = joblib.load('./models_features/column_transformer.joblib')\n",
    "rf = joblib.load('./models_features/random_forest.joblib')\n",
    "scaler = joblib.load('./models_features/min_max_scaler.joblib')"
   ]
  },
  {
   "cell_type": "code",
   "execution_count": 10,
   "metadata": {},
   "outputs": [
    {
     "data": {
      "text/plain": [
       "<xgboost.core.Booster at 0x11177e54400>"
      ]
     },
     "execution_count": 10,
     "metadata": {},
     "output_type": "execute_result"
    }
   ],
   "source": [
    "import xgboost\n",
    "gb = xgboost.Booster()\n",
    "gb.load_model('./models_features/grad_boosting.model')\n",
    "gb"
   ]
  },
  {
   "cell_type": "code",
   "execution_count": 3,
   "metadata": {},
   "outputs": [
    {
     "data": {
      "text/plain": [
       "RegressionNet(\n",
       "  (fc1): Linear(in_features=1, out_features=2, bias=True)\n",
       "  (act1): ReLU()\n",
       "  (fc2): Linear(in_features=2, out_features=1, bias=True)\n",
       "  (act2): ReLU()\n",
       ")"
      ]
     },
     "execution_count": 3,
     "metadata": {},
     "output_type": "execute_result"
    }
   ],
   "source": [
    "import torch\n",
    "nn = RegressionNet(1167)\n",
    "nn.load_state_dict(torch.load('./models_features/neural_network.pt', map_location=torch.device('cpu')))\n",
    "nn.eval()"
   ]
  },
  {
   "cell_type": "code",
   "execution_count": 42,
   "metadata": {},
   "outputs": [],
   "source": [
    "from sklearn.metrics import mean_absolute_error as mae"
   ]
  },
  {
   "cell_type": "code",
   "execution_count": 149,
   "metadata": {},
   "outputs": [],
   "source": [
    "y = raw_data['priceUSD']\n",
    "X = raw_data.drop('priceUSD', axis=1)"
   ]
  },
  {
   "cell_type": "code",
   "execution_count": 55,
   "metadata": {},
   "outputs": [],
   "source": [
    "X = ct.transform(X)"
   ]
  },
  {
   "cell_type": "code",
   "execution_count": 56,
   "metadata": {},
   "outputs": [
    {
     "data": {
      "text/plain": [
       "<1x1167 sparse matrix of type '<class 'numpy.float64'>'\n",
       "\twith 11 stored elements in Compressed Sparse Row format>"
      ]
     },
     "execution_count": 56,
     "metadata": {},
     "output_type": "execute_result"
    }
   ],
   "source": [
    "X"
   ]
  },
  {
   "cell_type": "code",
   "execution_count": 57,
   "metadata": {},
   "outputs": [
    {
     "data": {
      "text/plain": [
       "(46.5, array([3346.5]))"
      ]
     },
     "execution_count": 57,
     "metadata": {},
     "output_type": "execute_result"
    }
   ],
   "source": [
    "mae(y, rf.predict(X)), rf.predict(X)"
   ]
  },
  {
   "cell_type": "code",
   "execution_count": 58,
   "metadata": {},
   "outputs": [
    {
     "data": {
      "text/plain": [
       "(155.861083984375, array([3144.139], dtype=float32))"
      ]
     },
     "execution_count": 58,
     "metadata": {},
     "output_type": "execute_result"
    }
   ],
   "source": [
    "mae(y, gb.predict(xgboost.DMatrix(X))), gb.predict(xgboost.DMatrix(X))"
   ]
  },
  {
   "cell_type": "code",
   "execution_count": 59,
   "metadata": {},
   "outputs": [],
   "source": [
    "X = scaler.transform(X.toarray())"
   ]
  },
  {
   "cell_type": "code",
   "execution_count": 60,
   "metadata": {},
   "outputs": [],
   "source": [
    "X = torch.from_numpy(X).float()\n",
    "y = torch.from_numpy(np.array(y)).float()"
   ]
  },
  {
   "cell_type": "code",
   "execution_count": 61,
   "metadata": {},
   "outputs": [
    {
     "data": {
      "text/plain": [
       "(tensor(142.5249, grad_fn=<L1LossBackward>),\n",
       " tensor([[3442.5249]], grad_fn=<ReluBackward0>))"
      ]
     },
     "execution_count": 61,
     "metadata": {},
     "output_type": "execute_result"
    }
   ],
   "source": [
    "torch.nn.L1Loss()(nn.forward(X), y.unsqueeze(1)), nn.forward(X)"
   ]
  },
  {
   "cell_type": "code",
   "execution_count": 53,
   "metadata": {},
   "outputs": [],
   "source": [
    "X = pd.DataFrame(example)\n",
    "X.year = 2019 - X.year\n",
    "y = X['priceUSD']\n",
    "X = X.drop('priceUSD', axis=1)"
   ]
  },
  {
   "cell_type": "code",
   "execution_count": 54,
   "metadata": {},
   "outputs": [
    {
     "data": {
      "text/html": [
       "<div>\n",
       "<style scoped>\n",
       "    .dataframe tbody tr th:only-of-type {\n",
       "        vertical-align: middle;\n",
       "    }\n",
       "\n",
       "    .dataframe tbody tr th {\n",
       "        vertical-align: top;\n",
       "    }\n",
       "\n",
       "    .dataframe thead th {\n",
       "        text-align: right;\n",
       "    }\n",
       "</style>\n",
       "<table border=\"1\" class=\"dataframe\">\n",
       "  <thead>\n",
       "    <tr style=\"text-align: right;\">\n",
       "      <th></th>\n",
       "      <th>make</th>\n",
       "      <th>model</th>\n",
       "      <th>priceUSD</th>\n",
       "      <th>year</th>\n",
       "      <th>condition</th>\n",
       "      <th>mileage(kilometers)</th>\n",
       "      <th>fuel_type</th>\n",
       "      <th>volume(cm3)</th>\n",
       "      <th>color</th>\n",
       "      <th>transmission</th>\n",
       "      <th>drive_unit</th>\n",
       "      <th>segment</th>\n",
       "    </tr>\n",
       "  </thead>\n",
       "  <tbody>\n",
       "    <tr>\n",
       "      <th>39907</th>\n",
       "      <td>volkswagen</td>\n",
       "      <td>passat</td>\n",
       "      <td>3300</td>\n",
       "      <td>22</td>\n",
       "      <td>with mileage</td>\n",
       "      <td>310000.0</td>\n",
       "      <td>diesel</td>\n",
       "      <td>1900.0</td>\n",
       "      <td>blue</td>\n",
       "      <td>mechanics</td>\n",
       "      <td>front-wheel drive</td>\n",
       "      <td>D</td>\n",
       "    </tr>\n",
       "  </tbody>\n",
       "</table>\n",
       "</div>"
      ],
      "text/plain": [
       "             make   model  priceUSD  year     condition  mileage(kilometers)  \\\n",
       "39907  volkswagen  passat      3300    22  with mileage             310000.0   \n",
       "\n",
       "      fuel_type  volume(cm3) color transmission         drive_unit segment  \n",
       "39907    diesel       1900.0  blue    mechanics  front-wheel drive       D  "
      ]
     },
     "execution_count": 54,
     "metadata": {},
     "output_type": "execute_result"
    }
   ],
   "source": [
    "example"
   ]
  },
  {
   "cell_type": "code",
   "execution_count": null,
   "metadata": {},
   "outputs": [],
   "source": []
  }
 ],
 "metadata": {
  "kernelspec": {
   "display_name": "Python 3",
   "language": "python",
   "name": "python3"
  },
  "language_info": {
   "codemirror_mode": {
    "name": "ipython",
    "version": 3
   },
   "file_extension": ".py",
   "mimetype": "text/x-python",
   "name": "python",
   "nbconvert_exporter": "python",
   "pygments_lexer": "ipython3",
   "version": "3.6.12"
  },
  "varInspector": {
   "cols": {
    "lenName": 16,
    "lenType": 16,
    "lenVar": 40
   },
   "kernels_config": {
    "python": {
     "delete_cmd_postfix": "",
     "delete_cmd_prefix": "del ",
     "library": "var_list.py",
     "varRefreshCmd": "print(var_dic_list())"
    },
    "r": {
     "delete_cmd_postfix": ") ",
     "delete_cmd_prefix": "rm(",
     "library": "var_list.r",
     "varRefreshCmd": "cat(var_dic_list()) "
    }
   },
   "oldHeight": 259.667,
   "position": {
    "height": "281.667px",
    "left": "525px",
    "right": "20px",
    "top": "103px",
    "width": "700px"
   },
   "types_to_exclude": [
    "module",
    "function",
    "builtin_function_or_method",
    "instance",
    "_Feature"
   ],
   "varInspector_section_display": "block",
   "window_display": false
  }
 },
 "nbformat": 4,
 "nbformat_minor": 4
}
